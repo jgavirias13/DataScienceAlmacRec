{
 "cells": [
  {
   "cell_type": "code",
   "execution_count": null,
   "metadata": {},
   "outputs": [],
   "source": [
    "# Instalacion de dependencias\n",
    "!pip install nltk\n",
    "!pip install matplotlib"
   ]
  },
  {
   "cell_type": "code",
   "execution_count": null,
   "metadata": {},
   "outputs": [],
   "source": [
    "# Importar dependencais\n",
    "import nltk\n",
    "import re\n",
    "from nltk.corpus import stopwords\n",
    "from nltk.stem import PorterStemmer\n",
    "from nltk.stem import WordNetLemmatizer\n",
    "import matplotlib.pyplot as plt"
   ]
  },
  {
   "cell_type": "code",
   "execution_count": null,
   "metadata": {},
   "outputs": [],
   "source": [
    "# Punto 1\n",
    "## Se busca construir el BoW mas optimizado del archivo solicitado\n",
    "## Eliminando stop words, tokenizando, haciendo stemming y lemmatizacion\n",
    "\n",
    "# Lectura del archivo\n",
    "file = open('./data/0704.3504.pdf.txt')\n",
    "rawText = file.read()"
   ]
  },
  {
   "cell_type": "code",
   "execution_count": null,
   "metadata": {
    "tags": [
     "outputPrepend"
    ]
   },
   "outputs": [],
   "source": [
    "# Tokenizacion basica\n",
    "tokens = nltk.word_tokenize(rawText)\n",
    "fdist = nltk.FreqDist(tokens)\n",
    "topWords = fdist.most_common(20)\n",
    "\n",
    "# Se imprime longitud de primera version de tokens\n",
    "print(len(tokens))\n",
    "# Se imprime longitud de primera version de BoW\n",
    "print(len(fdist))\n",
    "\n",
    "# Se muestra el top 20 de palabras\n",
    "x,y = zip(*topWords)\n",
    "plt.figure(figsize=(15,10))\n",
    "plt.bar(x,y)\n",
    "plt.xticks(rotation=90)\n",
    "plt.show()"
   ]
  },
  {
   "cell_type": "code",
   "execution_count": null,
   "metadata": {},
   "outputs": [],
   "source": [
    "# Se eliminan los caracteres especiales (no alfabeticos)\n",
    "tokens = [re.sub(r'[^A-Za-z0-9]+','',w) for w in tokens]\n",
    "\n",
    "# Se pasan todos los tokens a minusculas\n",
    "tokens = [w.lower() for w in tokens if len(w) > 1]\n",
    "\n",
    "# Se remueven palabras que tengan caracteres que no son alfabeto\n",
    "tokens = [w for w in tokens if w.isalpha()]\n",
    "\n",
    "fdist = nltk.FreqDist(tokens)\n",
    "topWords = fdist.most_common(20)\n",
    "\n",
    "# Longitud de segunda version de tokens y BoW luego de limpieza\n",
    "print(len(tokens))\n",
    "print(len(fdist))\n",
    "\n",
    "# Se muestra el top 20 de palabras\n",
    "x,y = zip(*topWords)\n",
    "plt.figure(figsize=(15,10))\n",
    "plt.bar(x,y)\n",
    "plt.xticks(rotation=90)\n",
    "plt.show()"
   ]
  },
  {
   "cell_type": "code",
   "execution_count": null,
   "metadata": {},
   "outputs": [],
   "source": [
    "# Eliminacion de stopwords\n",
    "stopwordsEnglish = set(stopwords.words('english'))\n",
    "tokens = [w for w in tokens if w not in stopwordsEnglish]\n",
    "fdist = nltk.FreqDist(tokens)\n",
    "topWords = fdist.most_common(20)\n",
    "\n",
    "# Longitud de tercera version de tokens y BoW luego de remocion de stopwords\n",
    "print(len(tokens))\n",
    "print(len(fdist))\n",
    "\n",
    "# Se muestra el top 20 de palabras\n",
    "x,y = zip(*topWords)\n",
    "plt.figure(figsize=(15,10))\n",
    "plt.bar(x,y)\n",
    "plt.xticks(rotation=90)\n",
    "plt.show()"
   ]
  },
  {
   "cell_type": "code",
   "execution_count": null,
   "metadata": {},
   "outputs": [],
   "source": [
    "# Stemming\n",
    "porter = PorterStemmer()\n",
    "tokens = [porter.stem(w) for w in tokens]\n",
    "fdist = nltk.FreqDist(tokens)\n",
    "topWords = fdist.most_common(20)\n",
    "\n",
    "# Longitud de cuarta version de tokens y BoW luego de Stemming\n",
    "print(len(tokens))\n",
    "print(len(fdist))\n",
    "\n",
    "# Se muestra el top 20 de palabras\n",
    "x,y = zip(*topWords)\n",
    "plt.figure(figsize=(15,10))\n",
    "plt.bar(x,y)\n",
    "plt.xticks(rotation=90)\n",
    "plt.show()"
   ]
  },
  {
   "cell_type": "code",
   "execution_count": null,
   "metadata": {},
   "outputs": [],
   "source": [
    "# Lematizacion\n",
    "lemmatizer = WordNetLemmatizer()\n",
    "tokens = [lemmatizer.lemmatize(w) for w in tokens]\n",
    "fdist = nltk.FreqDist(tokens)\n",
    "topWords = fdist.most_common(20)\n",
    "\n",
    "# Longitud de version final de tokens y BoW luego de lematizacion\n",
    "print(len(tokens))\n",
    "print(len(fdist))\n",
    "\n",
    "# Se muestra el top 20 de palabras\n",
    "x,y = zip(*topWords)\n",
    "plt.figure(figsize=(15,10))\n",
    "plt.bar(x,y)\n",
    "plt.xticks(rotation=90)\n",
    "plt.show()"
   ]
  }
 ],
 "metadata": {
  "language_info": {
   "codemirror_mode": {
    "name": "ipython",
    "version": 3
   },
   "file_extension": ".py",
   "mimetype": "text/x-python",
   "name": "python",
   "nbconvert_exporter": "python",
   "pygments_lexer": "ipython3",
   "version": "3.7.6-final"
  },
  "orig_nbformat": 2,
  "kernelspec": {
   "name": "python3",
   "display_name": "Python 3"
  }
 },
 "nbformat": 4,
 "nbformat_minor": 2
}