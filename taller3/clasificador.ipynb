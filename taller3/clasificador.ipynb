{
 "cells": [
  {
   "cell_type": "markdown",
   "metadata": {},
   "source": [
    "# Taller 3\n",
    "\n",
    "**Autor:** Juan Pablo Gaviria\n",
    "\n",
    "## Clasificación de documentos con Naive Bayes"
   ]
  },
  {
   "cell_type": "code",
   "execution_count": 1,
   "metadata": {},
   "outputs": [],
   "source": [
    "import pandas as pd\n",
    "import multiprocessing as mp\n",
    "from sklearn.feature_extraction.text import TfidfVectorizer\n",
    "import nltk\n",
    "import re\n",
    "from nltk.corpus import stopwords\n",
    "from nltk.stem import PorterStemmer\n",
    "from nltk.stem import WordNetLemmatizer\n",
    "import time\n",
    "from sklearn.feature_extraction.text import CountVectorizer\n",
    "from sklearn.feature_extraction.text import TfidfTransformer\n",
    "from sklearn.model_selection import train_test_split\n",
    "from sklearn.naive_bayes import MultinomialNB\n",
    "import numpy as np\n",
    "from sklearn import svm"
   ]
  },
  {
   "cell_type": "markdown",
   "metadata": {},
   "source": [
    "### Lectura de la información"
   ]
  },
  {
   "cell_type": "code",
   "execution_count": 2,
   "metadata": {},
   "outputs": [
    {
     "output_type": "execute_result",
     "data": {
      "text/plain": "        cord_uid                                       sha  \\\n0       ug7v899j  d1aafb70c066a2068b02786f8929fd9c900897fb   \n1       02tnwd4m  6b0567729c2143a66d737eb0a2f63f2dce2e5a7d   \n2       ejv2xln0  06ced00a5fc04215949aa72528f2eeaae1d58927   \n3       2b73a28n  348055649b6b8cf2b9a376498df9bf41f7123605   \n4       9785vg6d  5f48792a5fa08bed9f56016f4981ae2ca6031b32   \n...          ...                                       ...   \n128487  a11jyui1                                       NaN   \n128488  9bma9y0q  44959e4505dcc59575f4989de8abf3fcc7e48415   \n128489  50xhia4r  8922380f61b6fe160ab0550a674816f1852a843d   \n128490  97h1fz34  ea20a6b97f98ce4bdddfa6408da5ddf3dd06835e   \n128491  clmtwq4v  4c779b2a7682e10c421d6df6175226115a703997   \n\n                      source_x  \\\n0                          PMC   \n1                          PMC   \n2                          PMC   \n3                          PMC   \n4                          PMC   \n...                        ...   \n128487           Elsevier; PMC   \n128488            Medline; PMC   \n128489       Medline; PMC; WHO   \n128490            Medline; PMC   \n128491  Elsevier; Medline; PMC   \n\n                                                    title  \\\n0       Clinical features of culture-proven Mycoplasma...   \n1       Nitric oxide: a pro-inflammatory mediator in l...   \n2         Surfactant protein-D and pulmonary host defense   \n3                    Role of endothelin-1 in lung disease   \n4       Gene expression in epithelial cells in respons...   \n...                                                   ...   \n128487  Impact of BSE on the biotechnology industry — ...   \n128488  Evolving Gene Targets and Technology in Influe...   \n128489  How to train health personnel to protect thems...   \n128490             Epidemic spreading in complex networks   \n128491  The determinants of the 1999 and 2007 Chinese ...   \n\n                                  doi       pmcid   pubmed_id    license  \\\n0               10.1186/1471-2334-1-6    PMC35282  11472636.0      no-cc   \n1                        10.1186/rr14    PMC59543  11667967.0      no-cc   \n2                        10.1186/rr19    PMC59549  11667972.0      no-cc   \n3                        10.1186/rr44    PMC59574  11686871.0      no-cc   \n4                        10.1186/rr61    PMC59580  11686888.0      no-cc   \n...                               ...         ...         ...        ...   \n128487  10.1016/s0958-2118(04)00238-1  PMC7148827         NaN  els-covid   \n128488      10.1007/s40291-013-0040-9  PMC7100497  23686537.0      no-cc   \n128489       10.3352/jeehp.2020.17.10  PMC7162995  32150796.0      cc-by   \n128490      10.1007/s11467-008-0027-x  PMC7111544  32288753.0      no-cc   \n128491  10.1016/j.tourman.2009.10.003  PMC7127154  32287734.0      no-cc   \n\n                                                 abstract publish_time  \\\n0       OBJECTIVE: This retrospective chart review des...   2001-07-04   \n1       Inflammatory diseases of the respiratory tract...   2000-08-15   \n2       Surfactant protein-D (SP-D) participates in th...   2000-08-25   \n3       Endothelin-1 (ET-1) is a 21 amino acid peptide...   2001-02-22   \n4       Respiratory syncytial virus (RSV) and pneumoni...   2001-05-11   \n...                                                   ...          ...   \n128487  This feature briefly looks at filtration techn...   2004-10-31   \n128488  Influenza viruses cause recurring epidemic out...   2013-05-18   \n128489                                                NaN   2020-03-07   \n128490  The study of epidemic spreading in complex net...   2008-07-08   \n128491  This study examines the factors that lay behin...   2009-11-06   \n\n                                                  authors  \\\n0                     Madani, Tariq A; Al-Ghamdi, Aisha A   \n1       Vliet, Albert van der; Eiserich, Jason P; Cros...   \n2                                         Crouch, Erika C   \n3       Fagan, Karen A; McMurtry, Ivan F; Rodman, David M   \n4       Domachowske, Joseph B; Bonville, Cynthia A; Ro...   \n...                                                   ...   \n128487                                    Atkinson, Simon   \n128488               Malanoski, Anthony P.; Lin, Baochuan   \n128489                                           Huh, Sun   \n128490                           Zhou, Jie; Liu, Zong-hua   \n128491                    York, Qi Yan; Zhang, Hanqin Qiu   \n\n                        journal  mag_id who_covidence_id arxiv_id  \\\n0                BMC Infect Dis     NaN              NaN      NaN   \n1                    Respir Res     NaN              NaN      NaN   \n2                    Respir Res     NaN              NaN      NaN   \n3                    Respir Res     NaN              NaN      NaN   \n4                    Respir Res     NaN              NaN      NaN   \n...                         ...     ...              ...      ...   \n128487      Membrane Technology     NaN              NaN      NaN   \n128488           Mol Diagn Ther     NaN              NaN      NaN   \n128489  J Educ Eval Health Prof     NaN            #6263      NaN   \n128490         Front Phys China     NaN              NaN      NaN   \n128491               Tour Manag     NaN              NaN      NaN   \n\n                                           pdf_json_files  \\\n0       document_parses/pdf_json/d1aafb70c066a2068b027...   \n1       document_parses/pdf_json/6b0567729c2143a66d737...   \n2       document_parses/pdf_json/06ced00a5fc04215949aa...   \n3       document_parses/pdf_json/348055649b6b8cf2b9a37...   \n4       document_parses/pdf_json/5f48792a5fa08bed9f560...   \n...                                                   ...   \n128487                                                NaN   \n128488  document_parses/pdf_json/44959e4505dcc59575f49...   \n128489  document_parses/pdf_json/8922380f61b6fe160ab05...   \n128490  document_parses/pdf_json/ea20a6b97f98ce4bdddfa...   \n128491  document_parses/pdf_json/4c779b2a7682e10c421d6...   \n\n                                      pmc_json_files  \\\n0         document_parses/pmc_json/PMC35282.xml.json   \n1         document_parses/pmc_json/PMC59543.xml.json   \n2         document_parses/pmc_json/PMC59549.xml.json   \n3         document_parses/pmc_json/PMC59574.xml.json   \n4         document_parses/pmc_json/PMC59580.xml.json   \n...                                              ...   \n128487                                           NaN   \n128488  document_parses/pmc_json/PMC7100497.xml.json   \n128489  document_parses/pmc_json/PMC7162995.xml.json   \n128490                                           NaN   \n128491  document_parses/pmc_json/PMC7127154.xml.json   \n\n                                                      url        s2_id  \n0       https://www.ncbi.nlm.nih.gov/pmc/articles/PMC3...          NaN  \n1       https://www.ncbi.nlm.nih.gov/pmc/articles/PMC5...          NaN  \n2       https://www.ncbi.nlm.nih.gov/pmc/articles/PMC5...          NaN  \n3       https://www.ncbi.nlm.nih.gov/pmc/articles/PMC5...          NaN  \n4       https://www.ncbi.nlm.nih.gov/pmc/articles/PMC5...          NaN  \n...                                                   ...          ...  \n128487  https://www.sciencedirect.com/science/article/...  109580667.0  \n128488                                                NaN   17361009.0  \n128489                                                NaN  212650605.0  \n128490                                                NaN  121665618.0  \n128491  https://www.sciencedirect.com/science/article/...  154015971.0  \n\n[128492 rows x 19 columns]",
      "text/html": "<div>\n<style scoped>\n    .dataframe tbody tr th:only-of-type {\n        vertical-align: middle;\n    }\n\n    .dataframe tbody tr th {\n        vertical-align: top;\n    }\n\n    .dataframe thead th {\n        text-align: right;\n    }\n</style>\n<table border=\"1\" class=\"dataframe\">\n  <thead>\n    <tr style=\"text-align: right;\">\n      <th></th>\n      <th>cord_uid</th>\n      <th>sha</th>\n      <th>source_x</th>\n      <th>title</th>\n      <th>doi</th>\n      <th>pmcid</th>\n      <th>pubmed_id</th>\n      <th>license</th>\n      <th>abstract</th>\n      <th>publish_time</th>\n      <th>authors</th>\n      <th>journal</th>\n      <th>mag_id</th>\n      <th>who_covidence_id</th>\n      <th>arxiv_id</th>\n      <th>pdf_json_files</th>\n      <th>pmc_json_files</th>\n      <th>url</th>\n      <th>s2_id</th>\n    </tr>\n  </thead>\n  <tbody>\n    <tr>\n      <th>0</th>\n      <td>ug7v899j</td>\n      <td>d1aafb70c066a2068b02786f8929fd9c900897fb</td>\n      <td>PMC</td>\n      <td>Clinical features of culture-proven Mycoplasma...</td>\n      <td>10.1186/1471-2334-1-6</td>\n      <td>PMC35282</td>\n      <td>11472636.0</td>\n      <td>no-cc</td>\n      <td>OBJECTIVE: This retrospective chart review des...</td>\n      <td>2001-07-04</td>\n      <td>Madani, Tariq A; Al-Ghamdi, Aisha A</td>\n      <td>BMC Infect Dis</td>\n      <td>NaN</td>\n      <td>NaN</td>\n      <td>NaN</td>\n      <td>document_parses/pdf_json/d1aafb70c066a2068b027...</td>\n      <td>document_parses/pmc_json/PMC35282.xml.json</td>\n      <td>https://www.ncbi.nlm.nih.gov/pmc/articles/PMC3...</td>\n      <td>NaN</td>\n    </tr>\n    <tr>\n      <th>1</th>\n      <td>02tnwd4m</td>\n      <td>6b0567729c2143a66d737eb0a2f63f2dce2e5a7d</td>\n      <td>PMC</td>\n      <td>Nitric oxide: a pro-inflammatory mediator in l...</td>\n      <td>10.1186/rr14</td>\n      <td>PMC59543</td>\n      <td>11667967.0</td>\n      <td>no-cc</td>\n      <td>Inflammatory diseases of the respiratory tract...</td>\n      <td>2000-08-15</td>\n      <td>Vliet, Albert van der; Eiserich, Jason P; Cros...</td>\n      <td>Respir Res</td>\n      <td>NaN</td>\n      <td>NaN</td>\n      <td>NaN</td>\n      <td>document_parses/pdf_json/6b0567729c2143a66d737...</td>\n      <td>document_parses/pmc_json/PMC59543.xml.json</td>\n      <td>https://www.ncbi.nlm.nih.gov/pmc/articles/PMC5...</td>\n      <td>NaN</td>\n    </tr>\n    <tr>\n      <th>2</th>\n      <td>ejv2xln0</td>\n      <td>06ced00a5fc04215949aa72528f2eeaae1d58927</td>\n      <td>PMC</td>\n      <td>Surfactant protein-D and pulmonary host defense</td>\n      <td>10.1186/rr19</td>\n      <td>PMC59549</td>\n      <td>11667972.0</td>\n      <td>no-cc</td>\n      <td>Surfactant protein-D (SP-D) participates in th...</td>\n      <td>2000-08-25</td>\n      <td>Crouch, Erika C</td>\n      <td>Respir Res</td>\n      <td>NaN</td>\n      <td>NaN</td>\n      <td>NaN</td>\n      <td>document_parses/pdf_json/06ced00a5fc04215949aa...</td>\n      <td>document_parses/pmc_json/PMC59549.xml.json</td>\n      <td>https://www.ncbi.nlm.nih.gov/pmc/articles/PMC5...</td>\n      <td>NaN</td>\n    </tr>\n    <tr>\n      <th>3</th>\n      <td>2b73a28n</td>\n      <td>348055649b6b8cf2b9a376498df9bf41f7123605</td>\n      <td>PMC</td>\n      <td>Role of endothelin-1 in lung disease</td>\n      <td>10.1186/rr44</td>\n      <td>PMC59574</td>\n      <td>11686871.0</td>\n      <td>no-cc</td>\n      <td>Endothelin-1 (ET-1) is a 21 amino acid peptide...</td>\n      <td>2001-02-22</td>\n      <td>Fagan, Karen A; McMurtry, Ivan F; Rodman, David M</td>\n      <td>Respir Res</td>\n      <td>NaN</td>\n      <td>NaN</td>\n      <td>NaN</td>\n      <td>document_parses/pdf_json/348055649b6b8cf2b9a37...</td>\n      <td>document_parses/pmc_json/PMC59574.xml.json</td>\n      <td>https://www.ncbi.nlm.nih.gov/pmc/articles/PMC5...</td>\n      <td>NaN</td>\n    </tr>\n    <tr>\n      <th>4</th>\n      <td>9785vg6d</td>\n      <td>5f48792a5fa08bed9f56016f4981ae2ca6031b32</td>\n      <td>PMC</td>\n      <td>Gene expression in epithelial cells in respons...</td>\n      <td>10.1186/rr61</td>\n      <td>PMC59580</td>\n      <td>11686888.0</td>\n      <td>no-cc</td>\n      <td>Respiratory syncytial virus (RSV) and pneumoni...</td>\n      <td>2001-05-11</td>\n      <td>Domachowske, Joseph B; Bonville, Cynthia A; Ro...</td>\n      <td>Respir Res</td>\n      <td>NaN</td>\n      <td>NaN</td>\n      <td>NaN</td>\n      <td>document_parses/pdf_json/5f48792a5fa08bed9f560...</td>\n      <td>document_parses/pmc_json/PMC59580.xml.json</td>\n      <td>https://www.ncbi.nlm.nih.gov/pmc/articles/PMC5...</td>\n      <td>NaN</td>\n    </tr>\n    <tr>\n      <th>...</th>\n      <td>...</td>\n      <td>...</td>\n      <td>...</td>\n      <td>...</td>\n      <td>...</td>\n      <td>...</td>\n      <td>...</td>\n      <td>...</td>\n      <td>...</td>\n      <td>...</td>\n      <td>...</td>\n      <td>...</td>\n      <td>...</td>\n      <td>...</td>\n      <td>...</td>\n      <td>...</td>\n      <td>...</td>\n      <td>...</td>\n      <td>...</td>\n    </tr>\n    <tr>\n      <th>128487</th>\n      <td>a11jyui1</td>\n      <td>NaN</td>\n      <td>Elsevier; PMC</td>\n      <td>Impact of BSE on the biotechnology industry — ...</td>\n      <td>10.1016/s0958-2118(04)00238-1</td>\n      <td>PMC7148827</td>\n      <td>NaN</td>\n      <td>els-covid</td>\n      <td>This feature briefly looks at filtration techn...</td>\n      <td>2004-10-31</td>\n      <td>Atkinson, Simon</td>\n      <td>Membrane Technology</td>\n      <td>NaN</td>\n      <td>NaN</td>\n      <td>NaN</td>\n      <td>NaN</td>\n      <td>NaN</td>\n      <td>https://www.sciencedirect.com/science/article/...</td>\n      <td>109580667.0</td>\n    </tr>\n    <tr>\n      <th>128488</th>\n      <td>9bma9y0q</td>\n      <td>44959e4505dcc59575f4989de8abf3fcc7e48415</td>\n      <td>Medline; PMC</td>\n      <td>Evolving Gene Targets and Technology in Influe...</td>\n      <td>10.1007/s40291-013-0040-9</td>\n      <td>PMC7100497</td>\n      <td>23686537.0</td>\n      <td>no-cc</td>\n      <td>Influenza viruses cause recurring epidemic out...</td>\n      <td>2013-05-18</td>\n      <td>Malanoski, Anthony P.; Lin, Baochuan</td>\n      <td>Mol Diagn Ther</td>\n      <td>NaN</td>\n      <td>NaN</td>\n      <td>NaN</td>\n      <td>document_parses/pdf_json/44959e4505dcc59575f49...</td>\n      <td>document_parses/pmc_json/PMC7100497.xml.json</td>\n      <td>NaN</td>\n      <td>17361009.0</td>\n    </tr>\n    <tr>\n      <th>128489</th>\n      <td>50xhia4r</td>\n      <td>8922380f61b6fe160ab0550a674816f1852a843d</td>\n      <td>Medline; PMC; WHO</td>\n      <td>How to train health personnel to protect thems...</td>\n      <td>10.3352/jeehp.2020.17.10</td>\n      <td>PMC7162995</td>\n      <td>32150796.0</td>\n      <td>cc-by</td>\n      <td>NaN</td>\n      <td>2020-03-07</td>\n      <td>Huh, Sun</td>\n      <td>J Educ Eval Health Prof</td>\n      <td>NaN</td>\n      <td>#6263</td>\n      <td>NaN</td>\n      <td>document_parses/pdf_json/8922380f61b6fe160ab05...</td>\n      <td>document_parses/pmc_json/PMC7162995.xml.json</td>\n      <td>NaN</td>\n      <td>212650605.0</td>\n    </tr>\n    <tr>\n      <th>128490</th>\n      <td>97h1fz34</td>\n      <td>ea20a6b97f98ce4bdddfa6408da5ddf3dd06835e</td>\n      <td>Medline; PMC</td>\n      <td>Epidemic spreading in complex networks</td>\n      <td>10.1007/s11467-008-0027-x</td>\n      <td>PMC7111544</td>\n      <td>32288753.0</td>\n      <td>no-cc</td>\n      <td>The study of epidemic spreading in complex net...</td>\n      <td>2008-07-08</td>\n      <td>Zhou, Jie; Liu, Zong-hua</td>\n      <td>Front Phys China</td>\n      <td>NaN</td>\n      <td>NaN</td>\n      <td>NaN</td>\n      <td>document_parses/pdf_json/ea20a6b97f98ce4bdddfa...</td>\n      <td>NaN</td>\n      <td>NaN</td>\n      <td>121665618.0</td>\n    </tr>\n    <tr>\n      <th>128491</th>\n      <td>clmtwq4v</td>\n      <td>4c779b2a7682e10c421d6df6175226115a703997</td>\n      <td>Elsevier; Medline; PMC</td>\n      <td>The determinants of the 1999 and 2007 Chinese ...</td>\n      <td>10.1016/j.tourman.2009.10.003</td>\n      <td>PMC7127154</td>\n      <td>32287734.0</td>\n      <td>no-cc</td>\n      <td>This study examines the factors that lay behin...</td>\n      <td>2009-11-06</td>\n      <td>York, Qi Yan; Zhang, Hanqin Qiu</td>\n      <td>Tour Manag</td>\n      <td>NaN</td>\n      <td>NaN</td>\n      <td>NaN</td>\n      <td>document_parses/pdf_json/4c779b2a7682e10c421d6...</td>\n      <td>document_parses/pmc_json/PMC7127154.xml.json</td>\n      <td>https://www.sciencedirect.com/science/article/...</td>\n      <td>154015971.0</td>\n    </tr>\n  </tbody>\n</table>\n<p>128492 rows × 19 columns</p>\n</div>"
     },
     "metadata": {},
     "execution_count": 2
    }
   ],
   "source": [
    "# Se lee el data set original\n",
    "originalData = pd.read_csv('/home/jgaviria/Workspace/DataScience/datasets/metadata.csv')\n",
    "originalData"
   ]
  },
  {
   "cell_type": "code",
   "execution_count": 3,
   "metadata": {},
   "outputs": [
    {
     "output_type": "execute_result",
     "data": {
      "text/plain": "           docId  topico\n0       ug7v899j       0\n1       02tnwd4m       3\n2       ejv2xln0       4\n3       2b73a28n       4\n4       9785vg6d       3\n...          ...     ...\n128486  jvl63652       3\n128487  a11jyui1       3\n128488  9bma9y0q       2\n128490  97h1fz34       3\n128491  clmtwq4v       3\n\n[101606 rows x 2 columns]",
      "text/html": "<div>\n<style scoped>\n    .dataframe tbody tr th:only-of-type {\n        vertical-align: middle;\n    }\n\n    .dataframe tbody tr th {\n        vertical-align: top;\n    }\n\n    .dataframe thead th {\n        text-align: right;\n    }\n</style>\n<table border=\"1\" class=\"dataframe\">\n  <thead>\n    <tr style=\"text-align: right;\">\n      <th></th>\n      <th>docId</th>\n      <th>topico</th>\n    </tr>\n  </thead>\n  <tbody>\n    <tr>\n      <th>0</th>\n      <td>ug7v899j</td>\n      <td>0</td>\n    </tr>\n    <tr>\n      <th>1</th>\n      <td>02tnwd4m</td>\n      <td>3</td>\n    </tr>\n    <tr>\n      <th>2</th>\n      <td>ejv2xln0</td>\n      <td>4</td>\n    </tr>\n    <tr>\n      <th>3</th>\n      <td>2b73a28n</td>\n      <td>4</td>\n    </tr>\n    <tr>\n      <th>4</th>\n      <td>9785vg6d</td>\n      <td>3</td>\n    </tr>\n    <tr>\n      <th>...</th>\n      <td>...</td>\n      <td>...</td>\n    </tr>\n    <tr>\n      <th>128486</th>\n      <td>jvl63652</td>\n      <td>3</td>\n    </tr>\n    <tr>\n      <th>128487</th>\n      <td>a11jyui1</td>\n      <td>3</td>\n    </tr>\n    <tr>\n      <th>128488</th>\n      <td>9bma9y0q</td>\n      <td>2</td>\n    </tr>\n    <tr>\n      <th>128490</th>\n      <td>97h1fz34</td>\n      <td>3</td>\n    </tr>\n    <tr>\n      <th>128491</th>\n      <td>clmtwq4v</td>\n      <td>3</td>\n    </tr>\n  </tbody>\n</table>\n<p>101606 rows × 2 columns</p>\n</div>"
     },
     "metadata": {},
     "execution_count": 3
    }
   ],
   "source": [
    "# Se lee la informacion clasificada (salida de la deteccion de topicos)\n",
    "topicos = pd.read_pickle('docTopicDetection.pkl')\n",
    "topicos"
   ]
  },
  {
   "cell_type": "code",
   "execution_count": 4,
   "metadata": {},
   "outputs": [
    {
     "output_type": "execute_result",
     "data": {
      "text/plain": "array([[<matplotlib.axes._subplots.AxesSubplot object at 0x7f8cd6194ad0>]],\n      dtype=object)"
     },
     "metadata": {},
     "execution_count": 4
    },
    {
     "output_type": "display_data",
     "data": {
      "text/plain": "<Figure size 432x288 with 1 Axes>",
      "image/svg+xml": "<?xml version=\"1.0\" encoding=\"utf-8\" standalone=\"no\"?>\n<!DOCTYPE svg PUBLIC \"-//W3C//DTD SVG 1.1//EN\"\n  \"http://www.w3.org/Graphics/SVG/1.1/DTD/svg11.dtd\">\n<!-- Created with matplotlib (https://matplotlib.org/) -->\n<svg height=\"263.63625pt\" version=\"1.1\" viewBox=\"0 0 388.0125 263.63625\" width=\"388.0125pt\" xmlns=\"http://www.w3.org/2000/svg\" xmlns:xlink=\"http://www.w3.org/1999/xlink\">\n <defs>\n  <style type=\"text/css\">\n*{stroke-linecap:butt;stroke-linejoin:round;}\n  </style>\n </defs>\n <g id=\"figure_1\">\n  <g id=\"patch_1\">\n   <path d=\"M 0 263.63625 \nL 388.0125 263.63625 \nL 388.0125 0 \nL 0 0 \nz\n\" style=\"fill:none;\"/>\n  </g>\n  <g id=\"axes_1\">\n   <g id=\"patch_2\">\n    <path d=\"M 46.0125 239.758125 \nL 380.8125 239.758125 \nL 380.8125 22.318125 \nL 46.0125 22.318125 \nz\n\" style=\"fill:#ffffff;\"/>\n   </g>\n   <g id=\"patch_3\">\n    <path clip-path=\"url(#p6abdd687d3)\" d=\"M 61.230682 239.758125 \nL 91.667045 239.758125 \nL 91.667045 116.533775 \nL 61.230682 116.533775 \nz\n\" style=\"fill:#1f77b4;\"/>\n   </g>\n   <g id=\"patch_4\">\n    <path clip-path=\"url(#p6abdd687d3)\" d=\"M 91.667045 239.758125 \nL 122.103409 239.758125 \nL 122.103409 239.758125 \nL 91.667045 239.758125 \nz\n\" style=\"fill:#1f77b4;\"/>\n   </g>\n   <g id=\"patch_5\">\n    <path clip-path=\"url(#p6abdd687d3)\" d=\"M 122.103409 239.758125 \nL 152.539773 239.758125 \nL 152.539773 164.43736 \nL 122.103409 164.43736 \nz\n\" style=\"fill:#1f77b4;\"/>\n   </g>\n   <g id=\"patch_6\">\n    <path clip-path=\"url(#p6abdd687d3)\" d=\"M 152.539773 239.758125 \nL 182.976136 239.758125 \nL 182.976136 239.758125 \nL 152.539773 239.758125 \nz\n\" style=\"fill:#1f77b4;\"/>\n   </g>\n   <g id=\"patch_7\">\n    <path clip-path=\"url(#p6abdd687d3)\" d=\"M 182.976136 239.758125 \nL 213.4125 239.758125 \nL 213.4125 239.758125 \nL 182.976136 239.758125 \nz\n\" style=\"fill:#1f77b4;\"/>\n   </g>\n   <g id=\"patch_8\">\n    <path clip-path=\"url(#p6abdd687d3)\" d=\"M 213.4125 239.758125 \nL 243.848864 239.758125 \nL 243.848864 182.682046 \nL 213.4125 182.682046 \nz\n\" style=\"fill:#1f77b4;\"/>\n   </g>\n   <g id=\"patch_9\">\n    <path clip-path=\"url(#p6abdd687d3)\" d=\"M 243.848864 239.758125 \nL 274.285227 239.758125 \nL 274.285227 239.758125 \nL 243.848864 239.758125 \nz\n\" style=\"fill:#1f77b4;\"/>\n   </g>\n   <g id=\"patch_10\">\n    <path clip-path=\"url(#p6abdd687d3)\" d=\"M 274.285227 239.758125 \nL 304.721591 239.758125 \nL 304.721591 32.672411 \nL 274.285227 32.672411 \nz\n\" style=\"fill:#1f77b4;\"/>\n   </g>\n   <g id=\"patch_11\">\n    <path clip-path=\"url(#p6abdd687d3)\" d=\"M 304.721591 239.758125 \nL 335.157955 239.758125 \nL 335.157955 239.758125 \nL 304.721591 239.758125 \nz\n\" style=\"fill:#1f77b4;\"/>\n   </g>\n   <g id=\"patch_12\">\n    <path clip-path=\"url(#p6abdd687d3)\" d=\"M 335.157955 239.758125 \nL 365.594318 239.758125 \nL 365.594318 192.907697 \nL 335.157955 192.907697 \nz\n\" style=\"fill:#1f77b4;\"/>\n   </g>\n   <g id=\"matplotlib.axis_1\">\n    <g id=\"xtick_1\">\n     <g id=\"line2d_1\">\n      <path clip-path=\"url(#p6abdd687d3)\" d=\"M 61.230682 239.758125 \nL 61.230682 22.318125 \n\" style=\"fill:none;stroke:#b0b0b0;stroke-linecap:square;stroke-width:0.8;\"/>\n     </g>\n     <g id=\"line2d_2\">\n      <defs>\n       <path d=\"M 0 0 \nL 0 3.5 \n\" id=\"m447b9c4b63\" style=\"stroke:#000000;stroke-width:0.8;\"/>\n      </defs>\n      <g>\n       <use style=\"stroke:#000000;stroke-width:0.8;\" x=\"61.230682\" xlink:href=\"#m447b9c4b63\" y=\"239.758125\"/>\n      </g>\n     </g>\n     <g id=\"text_1\">\n      <!-- 0.0 -->\n      <defs>\n       <path d=\"M 31.78125 66.40625 \nQ 24.171875 66.40625 20.328125 58.90625 \nQ 16.5 51.421875 16.5 36.375 \nQ 16.5 21.390625 20.328125 13.890625 \nQ 24.171875 6.390625 31.78125 6.390625 \nQ 39.453125 6.390625 43.28125 13.890625 \nQ 47.125 21.390625 47.125 36.375 \nQ 47.125 51.421875 43.28125 58.90625 \nQ 39.453125 66.40625 31.78125 66.40625 \nz\nM 31.78125 74.21875 \nQ 44.046875 74.21875 50.515625 64.515625 \nQ 56.984375 54.828125 56.984375 36.375 \nQ 56.984375 17.96875 50.515625 8.265625 \nQ 44.046875 -1.421875 31.78125 -1.421875 \nQ 19.53125 -1.421875 13.0625 8.265625 \nQ 6.59375 17.96875 6.59375 36.375 \nQ 6.59375 54.828125 13.0625 64.515625 \nQ 19.53125 74.21875 31.78125 74.21875 \nz\n\" id=\"DejaVuSans-48\"/>\n       <path d=\"M 10.6875 12.40625 \nL 21 12.40625 \nL 21 0 \nL 10.6875 0 \nz\n\" id=\"DejaVuSans-46\"/>\n      </defs>\n      <g transform=\"translate(53.279119 254.356563)scale(0.1 -0.1)\">\n       <use xlink:href=\"#DejaVuSans-48\"/>\n       <use x=\"63.623047\" xlink:href=\"#DejaVuSans-46\"/>\n       <use x=\"95.410156\" xlink:href=\"#DejaVuSans-48\"/>\n      </g>\n     </g>\n    </g>\n    <g id=\"xtick_2\">\n     <g id=\"line2d_3\">\n      <path clip-path=\"url(#p6abdd687d3)\" d=\"M 99.276136 239.758125 \nL 99.276136 22.318125 \n\" style=\"fill:none;stroke:#b0b0b0;stroke-linecap:square;stroke-width:0.8;\"/>\n     </g>\n     <g id=\"line2d_4\">\n      <g>\n       <use style=\"stroke:#000000;stroke-width:0.8;\" x=\"99.276136\" xlink:href=\"#m447b9c4b63\" y=\"239.758125\"/>\n      </g>\n     </g>\n     <g id=\"text_2\">\n      <!-- 0.5 -->\n      <defs>\n       <path d=\"M 10.796875 72.90625 \nL 49.515625 72.90625 \nL 49.515625 64.59375 \nL 19.828125 64.59375 \nL 19.828125 46.734375 \nQ 21.96875 47.46875 24.109375 47.828125 \nQ 26.265625 48.1875 28.421875 48.1875 \nQ 40.625 48.1875 47.75 41.5 \nQ 54.890625 34.8125 54.890625 23.390625 \nQ 54.890625 11.625 47.5625 5.09375 \nQ 40.234375 -1.421875 26.90625 -1.421875 \nQ 22.3125 -1.421875 17.546875 -0.640625 \nQ 12.796875 0.140625 7.71875 1.703125 \nL 7.71875 11.625 \nQ 12.109375 9.234375 16.796875 8.0625 \nQ 21.484375 6.890625 26.703125 6.890625 \nQ 35.15625 6.890625 40.078125 11.328125 \nQ 45.015625 15.765625 45.015625 23.390625 \nQ 45.015625 31 40.078125 35.4375 \nQ 35.15625 39.890625 26.703125 39.890625 \nQ 22.75 39.890625 18.8125 39.015625 \nQ 14.890625 38.140625 10.796875 36.28125 \nz\n\" id=\"DejaVuSans-53\"/>\n      </defs>\n      <g transform=\"translate(91.324574 254.356563)scale(0.1 -0.1)\">\n       <use xlink:href=\"#DejaVuSans-48\"/>\n       <use x=\"63.623047\" xlink:href=\"#DejaVuSans-46\"/>\n       <use x=\"95.410156\" xlink:href=\"#DejaVuSans-53\"/>\n      </g>\n     </g>\n    </g>\n    <g id=\"xtick_3\">\n     <g id=\"line2d_5\">\n      <path clip-path=\"url(#p6abdd687d3)\" d=\"M 137.321591 239.758125 \nL 137.321591 22.318125 \n\" style=\"fill:none;stroke:#b0b0b0;stroke-linecap:square;stroke-width:0.8;\"/>\n     </g>\n     <g id=\"line2d_6\">\n      <g>\n       <use style=\"stroke:#000000;stroke-width:0.8;\" x=\"137.321591\" xlink:href=\"#m447b9c4b63\" y=\"239.758125\"/>\n      </g>\n     </g>\n     <g id=\"text_3\">\n      <!-- 1.0 -->\n      <defs>\n       <path d=\"M 12.40625 8.296875 \nL 28.515625 8.296875 \nL 28.515625 63.921875 \nL 10.984375 60.40625 \nL 10.984375 69.390625 \nL 28.421875 72.90625 \nL 38.28125 72.90625 \nL 38.28125 8.296875 \nL 54.390625 8.296875 \nL 54.390625 0 \nL 12.40625 0 \nz\n\" id=\"DejaVuSans-49\"/>\n      </defs>\n      <g transform=\"translate(129.370028 254.356563)scale(0.1 -0.1)\">\n       <use xlink:href=\"#DejaVuSans-49\"/>\n       <use x=\"63.623047\" xlink:href=\"#DejaVuSans-46\"/>\n       <use x=\"95.410156\" xlink:href=\"#DejaVuSans-48\"/>\n      </g>\n     </g>\n    </g>\n    <g id=\"xtick_4\">\n     <g id=\"line2d_7\">\n      <path clip-path=\"url(#p6abdd687d3)\" d=\"M 175.367045 239.758125 \nL 175.367045 22.318125 \n\" style=\"fill:none;stroke:#b0b0b0;stroke-linecap:square;stroke-width:0.8;\"/>\n     </g>\n     <g id=\"line2d_8\">\n      <g>\n       <use style=\"stroke:#000000;stroke-width:0.8;\" x=\"175.367045\" xlink:href=\"#m447b9c4b63\" y=\"239.758125\"/>\n      </g>\n     </g>\n     <g id=\"text_4\">\n      <!-- 1.5 -->\n      <g transform=\"translate(167.415483 254.356563)scale(0.1 -0.1)\">\n       <use xlink:href=\"#DejaVuSans-49\"/>\n       <use x=\"63.623047\" xlink:href=\"#DejaVuSans-46\"/>\n       <use x=\"95.410156\" xlink:href=\"#DejaVuSans-53\"/>\n      </g>\n     </g>\n    </g>\n    <g id=\"xtick_5\">\n     <g id=\"line2d_9\">\n      <path clip-path=\"url(#p6abdd687d3)\" d=\"M 213.4125 239.758125 \nL 213.4125 22.318125 \n\" style=\"fill:none;stroke:#b0b0b0;stroke-linecap:square;stroke-width:0.8;\"/>\n     </g>\n     <g id=\"line2d_10\">\n      <g>\n       <use style=\"stroke:#000000;stroke-width:0.8;\" x=\"213.4125\" xlink:href=\"#m447b9c4b63\" y=\"239.758125\"/>\n      </g>\n     </g>\n     <g id=\"text_5\">\n      <!-- 2.0 -->\n      <defs>\n       <path d=\"M 19.1875 8.296875 \nL 53.609375 8.296875 \nL 53.609375 0 \nL 7.328125 0 \nL 7.328125 8.296875 \nQ 12.9375 14.109375 22.625 23.890625 \nQ 32.328125 33.6875 34.8125 36.53125 \nQ 39.546875 41.84375 41.421875 45.53125 \nQ 43.3125 49.21875 43.3125 52.78125 \nQ 43.3125 58.59375 39.234375 62.25 \nQ 35.15625 65.921875 28.609375 65.921875 \nQ 23.96875 65.921875 18.8125 64.3125 \nQ 13.671875 62.703125 7.8125 59.421875 \nL 7.8125 69.390625 \nQ 13.765625 71.78125 18.9375 73 \nQ 24.125 74.21875 28.421875 74.21875 \nQ 39.75 74.21875 46.484375 68.546875 \nQ 53.21875 62.890625 53.21875 53.421875 \nQ 53.21875 48.921875 51.53125 44.890625 \nQ 49.859375 40.875 45.40625 35.40625 \nQ 44.1875 33.984375 37.640625 27.21875 \nQ 31.109375 20.453125 19.1875 8.296875 \nz\n\" id=\"DejaVuSans-50\"/>\n      </defs>\n      <g transform=\"translate(205.460938 254.356563)scale(0.1 -0.1)\">\n       <use xlink:href=\"#DejaVuSans-50\"/>\n       <use x=\"63.623047\" xlink:href=\"#DejaVuSans-46\"/>\n       <use x=\"95.410156\" xlink:href=\"#DejaVuSans-48\"/>\n      </g>\n     </g>\n    </g>\n    <g id=\"xtick_6\">\n     <g id=\"line2d_11\">\n      <path clip-path=\"url(#p6abdd687d3)\" d=\"M 251.457955 239.758125 \nL 251.457955 22.318125 \n\" style=\"fill:none;stroke:#b0b0b0;stroke-linecap:square;stroke-width:0.8;\"/>\n     </g>\n     <g id=\"line2d_12\">\n      <g>\n       <use style=\"stroke:#000000;stroke-width:0.8;\" x=\"251.457955\" xlink:href=\"#m447b9c4b63\" y=\"239.758125\"/>\n      </g>\n     </g>\n     <g id=\"text_6\">\n      <!-- 2.5 -->\n      <g transform=\"translate(243.506392 254.356563)scale(0.1 -0.1)\">\n       <use xlink:href=\"#DejaVuSans-50\"/>\n       <use x=\"63.623047\" xlink:href=\"#DejaVuSans-46\"/>\n       <use x=\"95.410156\" xlink:href=\"#DejaVuSans-53\"/>\n      </g>\n     </g>\n    </g>\n    <g id=\"xtick_7\">\n     <g id=\"line2d_13\">\n      <path clip-path=\"url(#p6abdd687d3)\" d=\"M 289.503409 239.758125 \nL 289.503409 22.318125 \n\" style=\"fill:none;stroke:#b0b0b0;stroke-linecap:square;stroke-width:0.8;\"/>\n     </g>\n     <g id=\"line2d_14\">\n      <g>\n       <use style=\"stroke:#000000;stroke-width:0.8;\" x=\"289.503409\" xlink:href=\"#m447b9c4b63\" y=\"239.758125\"/>\n      </g>\n     </g>\n     <g id=\"text_7\">\n      <!-- 3.0 -->\n      <defs>\n       <path d=\"M 40.578125 39.3125 \nQ 47.65625 37.796875 51.625 33 \nQ 55.609375 28.21875 55.609375 21.1875 \nQ 55.609375 10.40625 48.1875 4.484375 \nQ 40.765625 -1.421875 27.09375 -1.421875 \nQ 22.515625 -1.421875 17.65625 -0.515625 \nQ 12.796875 0.390625 7.625 2.203125 \nL 7.625 11.71875 \nQ 11.71875 9.328125 16.59375 8.109375 \nQ 21.484375 6.890625 26.8125 6.890625 \nQ 36.078125 6.890625 40.9375 10.546875 \nQ 45.796875 14.203125 45.796875 21.1875 \nQ 45.796875 27.640625 41.28125 31.265625 \nQ 36.765625 34.90625 28.71875 34.90625 \nL 20.21875 34.90625 \nL 20.21875 43.015625 \nL 29.109375 43.015625 \nQ 36.375 43.015625 40.234375 45.921875 \nQ 44.09375 48.828125 44.09375 54.296875 \nQ 44.09375 59.90625 40.109375 62.90625 \nQ 36.140625 65.921875 28.71875 65.921875 \nQ 24.65625 65.921875 20.015625 65.03125 \nQ 15.375 64.15625 9.8125 62.3125 \nL 9.8125 71.09375 \nQ 15.4375 72.65625 20.34375 73.4375 \nQ 25.25 74.21875 29.59375 74.21875 \nQ 40.828125 74.21875 47.359375 69.109375 \nQ 53.90625 64.015625 53.90625 55.328125 \nQ 53.90625 49.265625 50.4375 45.09375 \nQ 46.96875 40.921875 40.578125 39.3125 \nz\n\" id=\"DejaVuSans-51\"/>\n      </defs>\n      <g transform=\"translate(281.551847 254.356563)scale(0.1 -0.1)\">\n       <use xlink:href=\"#DejaVuSans-51\"/>\n       <use x=\"63.623047\" xlink:href=\"#DejaVuSans-46\"/>\n       <use x=\"95.410156\" xlink:href=\"#DejaVuSans-48\"/>\n      </g>\n     </g>\n    </g>\n    <g id=\"xtick_8\">\n     <g id=\"line2d_15\">\n      <path clip-path=\"url(#p6abdd687d3)\" d=\"M 327.548864 239.758125 \nL 327.548864 22.318125 \n\" style=\"fill:none;stroke:#b0b0b0;stroke-linecap:square;stroke-width:0.8;\"/>\n     </g>\n     <g id=\"line2d_16\">\n      <g>\n       <use style=\"stroke:#000000;stroke-width:0.8;\" x=\"327.548864\" xlink:href=\"#m447b9c4b63\" y=\"239.758125\"/>\n      </g>\n     </g>\n     <g id=\"text_8\">\n      <!-- 3.5 -->\n      <g transform=\"translate(319.597301 254.356563)scale(0.1 -0.1)\">\n       <use xlink:href=\"#DejaVuSans-51\"/>\n       <use x=\"63.623047\" xlink:href=\"#DejaVuSans-46\"/>\n       <use x=\"95.410156\" xlink:href=\"#DejaVuSans-53\"/>\n      </g>\n     </g>\n    </g>\n    <g id=\"xtick_9\">\n     <g id=\"line2d_17\">\n      <path clip-path=\"url(#p6abdd687d3)\" d=\"M 365.594318 239.758125 \nL 365.594318 22.318125 \n\" style=\"fill:none;stroke:#b0b0b0;stroke-linecap:square;stroke-width:0.8;\"/>\n     </g>\n     <g id=\"line2d_18\">\n      <g>\n       <use style=\"stroke:#000000;stroke-width:0.8;\" x=\"365.594318\" xlink:href=\"#m447b9c4b63\" y=\"239.758125\"/>\n      </g>\n     </g>\n     <g id=\"text_9\">\n      <!-- 4.0 -->\n      <defs>\n       <path d=\"M 37.796875 64.3125 \nL 12.890625 25.390625 \nL 37.796875 25.390625 \nz\nM 35.203125 72.90625 \nL 47.609375 72.90625 \nL 47.609375 25.390625 \nL 58.015625 25.390625 \nL 58.015625 17.1875 \nL 47.609375 17.1875 \nL 47.609375 0 \nL 37.796875 0 \nL 37.796875 17.1875 \nL 4.890625 17.1875 \nL 4.890625 26.703125 \nz\n\" id=\"DejaVuSans-52\"/>\n      </defs>\n      <g transform=\"translate(357.642756 254.356563)scale(0.1 -0.1)\">\n       <use xlink:href=\"#DejaVuSans-52\"/>\n       <use x=\"63.623047\" xlink:href=\"#DejaVuSans-46\"/>\n       <use x=\"95.410156\" xlink:href=\"#DejaVuSans-48\"/>\n      </g>\n     </g>\n    </g>\n   </g>\n   <g id=\"matplotlib.axis_2\">\n    <g id=\"ytick_1\">\n     <g id=\"line2d_19\">\n      <path clip-path=\"url(#p6abdd687d3)\" d=\"M 46.0125 239.758125 \nL 380.8125 239.758125 \n\" style=\"fill:none;stroke:#b0b0b0;stroke-linecap:square;stroke-width:0.8;\"/>\n     </g>\n     <g id=\"line2d_20\">\n      <defs>\n       <path d=\"M 0 0 \nL -3.5 0 \n\" id=\"m7634ec5c01\" style=\"stroke:#000000;stroke-width:0.8;\"/>\n      </defs>\n      <g>\n       <use style=\"stroke:#000000;stroke-width:0.8;\" x=\"46.0125\" xlink:href=\"#m7634ec5c01\" y=\"239.758125\"/>\n      </g>\n     </g>\n     <g id=\"text_10\">\n      <!-- 0 -->\n      <g transform=\"translate(32.65 243.557344)scale(0.1 -0.1)\">\n       <use xlink:href=\"#DejaVuSans-48\"/>\n      </g>\n     </g>\n    </g>\n    <g id=\"ytick_2\">\n     <g id=\"line2d_21\">\n      <path clip-path=\"url(#p6abdd687d3)\" d=\"M 46.0125 214.682965 \nL 380.8125 214.682965 \n\" style=\"fill:none;stroke:#b0b0b0;stroke-linecap:square;stroke-width:0.8;\"/>\n     </g>\n     <g id=\"line2d_22\">\n      <g>\n       <use style=\"stroke:#000000;stroke-width:0.8;\" x=\"46.0125\" xlink:href=\"#m7634ec5c01\" y=\"214.682965\"/>\n      </g>\n     </g>\n     <g id=\"text_11\">\n      <!-- 5000 -->\n      <g transform=\"translate(13.5625 218.482184)scale(0.1 -0.1)\">\n       <use xlink:href=\"#DejaVuSans-53\"/>\n       <use x=\"63.623047\" xlink:href=\"#DejaVuSans-48\"/>\n       <use x=\"127.246094\" xlink:href=\"#DejaVuSans-48\"/>\n       <use x=\"190.869141\" xlink:href=\"#DejaVuSans-48\"/>\n      </g>\n     </g>\n    </g>\n    <g id=\"ytick_3\">\n     <g id=\"line2d_23\">\n      <path clip-path=\"url(#p6abdd687d3)\" d=\"M 46.0125 189.607806 \nL 380.8125 189.607806 \n\" style=\"fill:none;stroke:#b0b0b0;stroke-linecap:square;stroke-width:0.8;\"/>\n     </g>\n     <g id=\"line2d_24\">\n      <g>\n       <use style=\"stroke:#000000;stroke-width:0.8;\" x=\"46.0125\" xlink:href=\"#m7634ec5c01\" y=\"189.607806\"/>\n      </g>\n     </g>\n     <g id=\"text_12\">\n      <!-- 10000 -->\n      <g transform=\"translate(7.2 193.407024)scale(0.1 -0.1)\">\n       <use xlink:href=\"#DejaVuSans-49\"/>\n       <use x=\"63.623047\" xlink:href=\"#DejaVuSans-48\"/>\n       <use x=\"127.246094\" xlink:href=\"#DejaVuSans-48\"/>\n       <use x=\"190.869141\" xlink:href=\"#DejaVuSans-48\"/>\n       <use x=\"254.492188\" xlink:href=\"#DejaVuSans-48\"/>\n      </g>\n     </g>\n    </g>\n    <g id=\"ytick_4\">\n     <g id=\"line2d_25\">\n      <path clip-path=\"url(#p6abdd687d3)\" d=\"M 46.0125 164.532646 \nL 380.8125 164.532646 \n\" style=\"fill:none;stroke:#b0b0b0;stroke-linecap:square;stroke-width:0.8;\"/>\n     </g>\n     <g id=\"line2d_26\">\n      <g>\n       <use style=\"stroke:#000000;stroke-width:0.8;\" x=\"46.0125\" xlink:href=\"#m7634ec5c01\" y=\"164.532646\"/>\n      </g>\n     </g>\n     <g id=\"text_13\">\n      <!-- 15000 -->\n      <g transform=\"translate(7.2 168.331865)scale(0.1 -0.1)\">\n       <use xlink:href=\"#DejaVuSans-49\"/>\n       <use x=\"63.623047\" xlink:href=\"#DejaVuSans-53\"/>\n       <use x=\"127.246094\" xlink:href=\"#DejaVuSans-48\"/>\n       <use x=\"190.869141\" xlink:href=\"#DejaVuSans-48\"/>\n       <use x=\"254.492188\" xlink:href=\"#DejaVuSans-48\"/>\n      </g>\n     </g>\n    </g>\n    <g id=\"ytick_5\">\n     <g id=\"line2d_27\">\n      <path clip-path=\"url(#p6abdd687d3)\" d=\"M 46.0125 139.457486 \nL 380.8125 139.457486 \n\" style=\"fill:none;stroke:#b0b0b0;stroke-linecap:square;stroke-width:0.8;\"/>\n     </g>\n     <g id=\"line2d_28\">\n      <g>\n       <use style=\"stroke:#000000;stroke-width:0.8;\" x=\"46.0125\" xlink:href=\"#m7634ec5c01\" y=\"139.457486\"/>\n      </g>\n     </g>\n     <g id=\"text_14\">\n      <!-- 20000 -->\n      <g transform=\"translate(7.2 143.256705)scale(0.1 -0.1)\">\n       <use xlink:href=\"#DejaVuSans-50\"/>\n       <use x=\"63.623047\" xlink:href=\"#DejaVuSans-48\"/>\n       <use x=\"127.246094\" xlink:href=\"#DejaVuSans-48\"/>\n       <use x=\"190.869141\" xlink:href=\"#DejaVuSans-48\"/>\n       <use x=\"254.492188\" xlink:href=\"#DejaVuSans-48\"/>\n      </g>\n     </g>\n    </g>\n    <g id=\"ytick_6\">\n     <g id=\"line2d_29\">\n      <path clip-path=\"url(#p6abdd687d3)\" d=\"M 46.0125 114.382326 \nL 380.8125 114.382326 \n\" style=\"fill:none;stroke:#b0b0b0;stroke-linecap:square;stroke-width:0.8;\"/>\n     </g>\n     <g id=\"line2d_30\">\n      <g>\n       <use style=\"stroke:#000000;stroke-width:0.8;\" x=\"46.0125\" xlink:href=\"#m7634ec5c01\" y=\"114.382326\"/>\n      </g>\n     </g>\n     <g id=\"text_15\">\n      <!-- 25000 -->\n      <g transform=\"translate(7.2 118.181545)scale(0.1 -0.1)\">\n       <use xlink:href=\"#DejaVuSans-50\"/>\n       <use x=\"63.623047\" xlink:href=\"#DejaVuSans-53\"/>\n       <use x=\"127.246094\" xlink:href=\"#DejaVuSans-48\"/>\n       <use x=\"190.869141\" xlink:href=\"#DejaVuSans-48\"/>\n       <use x=\"254.492188\" xlink:href=\"#DejaVuSans-48\"/>\n      </g>\n     </g>\n    </g>\n    <g id=\"ytick_7\">\n     <g id=\"line2d_31\">\n      <path clip-path=\"url(#p6abdd687d3)\" d=\"M 46.0125 89.307167 \nL 380.8125 89.307167 \n\" style=\"fill:none;stroke:#b0b0b0;stroke-linecap:square;stroke-width:0.8;\"/>\n     </g>\n     <g id=\"line2d_32\">\n      <g>\n       <use style=\"stroke:#000000;stroke-width:0.8;\" x=\"46.0125\" xlink:href=\"#m7634ec5c01\" y=\"89.307167\"/>\n      </g>\n     </g>\n     <g id=\"text_16\">\n      <!-- 30000 -->\n      <g transform=\"translate(7.2 93.106385)scale(0.1 -0.1)\">\n       <use xlink:href=\"#DejaVuSans-51\"/>\n       <use x=\"63.623047\" xlink:href=\"#DejaVuSans-48\"/>\n       <use x=\"127.246094\" xlink:href=\"#DejaVuSans-48\"/>\n       <use x=\"190.869141\" xlink:href=\"#DejaVuSans-48\"/>\n       <use x=\"254.492188\" xlink:href=\"#DejaVuSans-48\"/>\n      </g>\n     </g>\n    </g>\n    <g id=\"ytick_8\">\n     <g id=\"line2d_33\">\n      <path clip-path=\"url(#p6abdd687d3)\" d=\"M 46.0125 64.232007 \nL 380.8125 64.232007 \n\" style=\"fill:none;stroke:#b0b0b0;stroke-linecap:square;stroke-width:0.8;\"/>\n     </g>\n     <g id=\"line2d_34\">\n      <g>\n       <use style=\"stroke:#000000;stroke-width:0.8;\" x=\"46.0125\" xlink:href=\"#m7634ec5c01\" y=\"64.232007\"/>\n      </g>\n     </g>\n     <g id=\"text_17\">\n      <!-- 35000 -->\n      <g transform=\"translate(7.2 68.031226)scale(0.1 -0.1)\">\n       <use xlink:href=\"#DejaVuSans-51\"/>\n       <use x=\"63.623047\" xlink:href=\"#DejaVuSans-53\"/>\n       <use x=\"127.246094\" xlink:href=\"#DejaVuSans-48\"/>\n       <use x=\"190.869141\" xlink:href=\"#DejaVuSans-48\"/>\n       <use x=\"254.492188\" xlink:href=\"#DejaVuSans-48\"/>\n      </g>\n     </g>\n    </g>\n    <g id=\"ytick_9\">\n     <g id=\"line2d_35\">\n      <path clip-path=\"url(#p6abdd687d3)\" d=\"M 46.0125 39.156847 \nL 380.8125 39.156847 \n\" style=\"fill:none;stroke:#b0b0b0;stroke-linecap:square;stroke-width:0.8;\"/>\n     </g>\n     <g id=\"line2d_36\">\n      <g>\n       <use style=\"stroke:#000000;stroke-width:0.8;\" x=\"46.0125\" xlink:href=\"#m7634ec5c01\" y=\"39.156847\"/>\n      </g>\n     </g>\n     <g id=\"text_18\">\n      <!-- 40000 -->\n      <g transform=\"translate(7.2 42.956066)scale(0.1 -0.1)\">\n       <use xlink:href=\"#DejaVuSans-52\"/>\n       <use x=\"63.623047\" xlink:href=\"#DejaVuSans-48\"/>\n       <use x=\"127.246094\" xlink:href=\"#DejaVuSans-48\"/>\n       <use x=\"190.869141\" xlink:href=\"#DejaVuSans-48\"/>\n       <use x=\"254.492188\" xlink:href=\"#DejaVuSans-48\"/>\n      </g>\n     </g>\n    </g>\n   </g>\n   <g id=\"patch_13\">\n    <path d=\"M 46.0125 239.758125 \nL 46.0125 22.318125 \n\" style=\"fill:none;stroke:#000000;stroke-linecap:square;stroke-linejoin:miter;stroke-width:0.8;\"/>\n   </g>\n   <g id=\"patch_14\">\n    <path d=\"M 380.8125 239.758125 \nL 380.8125 22.318125 \n\" style=\"fill:none;stroke:#000000;stroke-linecap:square;stroke-linejoin:miter;stroke-width:0.8;\"/>\n   </g>\n   <g id=\"patch_15\">\n    <path d=\"M 46.0125 239.758125 \nL 380.8125 239.758125 \n\" style=\"fill:none;stroke:#000000;stroke-linecap:square;stroke-linejoin:miter;stroke-width:0.8;\"/>\n   </g>\n   <g id=\"patch_16\">\n    <path d=\"M 46.0125 22.318125 \nL 380.8125 22.318125 \n\" style=\"fill:none;stroke:#000000;stroke-linecap:square;stroke-linejoin:miter;stroke-width:0.8;\"/>\n   </g>\n   <g id=\"text_19\">\n    <!-- topico -->\n    <defs>\n     <path d=\"M 18.3125 70.21875 \nL 18.3125 54.6875 \nL 36.8125 54.6875 \nL 36.8125 47.703125 \nL 18.3125 47.703125 \nL 18.3125 18.015625 \nQ 18.3125 11.328125 20.140625 9.421875 \nQ 21.96875 7.515625 27.59375 7.515625 \nL 36.8125 7.515625 \nL 36.8125 0 \nL 27.59375 0 \nQ 17.1875 0 13.234375 3.875 \nQ 9.28125 7.765625 9.28125 18.015625 \nL 9.28125 47.703125 \nL 2.6875 47.703125 \nL 2.6875 54.6875 \nL 9.28125 54.6875 \nL 9.28125 70.21875 \nz\n\" id=\"DejaVuSans-116\"/>\n     <path d=\"M 30.609375 48.390625 \nQ 23.390625 48.390625 19.1875 42.75 \nQ 14.984375 37.109375 14.984375 27.296875 \nQ 14.984375 17.484375 19.15625 11.84375 \nQ 23.34375 6.203125 30.609375 6.203125 \nQ 37.796875 6.203125 41.984375 11.859375 \nQ 46.1875 17.53125 46.1875 27.296875 \nQ 46.1875 37.015625 41.984375 42.703125 \nQ 37.796875 48.390625 30.609375 48.390625 \nz\nM 30.609375 56 \nQ 42.328125 56 49.015625 48.375 \nQ 55.71875 40.765625 55.71875 27.296875 \nQ 55.71875 13.875 49.015625 6.21875 \nQ 42.328125 -1.421875 30.609375 -1.421875 \nQ 18.84375 -1.421875 12.171875 6.21875 \nQ 5.515625 13.875 5.515625 27.296875 \nQ 5.515625 40.765625 12.171875 48.375 \nQ 18.84375 56 30.609375 56 \nz\n\" id=\"DejaVuSans-111\"/>\n     <path d=\"M 18.109375 8.203125 \nL 18.109375 -20.796875 \nL 9.078125 -20.796875 \nL 9.078125 54.6875 \nL 18.109375 54.6875 \nL 18.109375 46.390625 \nQ 20.953125 51.265625 25.265625 53.625 \nQ 29.59375 56 35.59375 56 \nQ 45.5625 56 51.78125 48.09375 \nQ 58.015625 40.1875 58.015625 27.296875 \nQ 58.015625 14.40625 51.78125 6.484375 \nQ 45.5625 -1.421875 35.59375 -1.421875 \nQ 29.59375 -1.421875 25.265625 0.953125 \nQ 20.953125 3.328125 18.109375 8.203125 \nz\nM 48.6875 27.296875 \nQ 48.6875 37.203125 44.609375 42.84375 \nQ 40.53125 48.484375 33.40625 48.484375 \nQ 26.265625 48.484375 22.1875 42.84375 \nQ 18.109375 37.203125 18.109375 27.296875 \nQ 18.109375 17.390625 22.1875 11.75 \nQ 26.265625 6.109375 33.40625 6.109375 \nQ 40.53125 6.109375 44.609375 11.75 \nQ 48.6875 17.390625 48.6875 27.296875 \nz\n\" id=\"DejaVuSans-112\"/>\n     <path d=\"M 9.421875 54.6875 \nL 18.40625 54.6875 \nL 18.40625 0 \nL 9.421875 0 \nz\nM 9.421875 75.984375 \nL 18.40625 75.984375 \nL 18.40625 64.59375 \nL 9.421875 64.59375 \nz\n\" id=\"DejaVuSans-105\"/>\n     <path d=\"M 48.78125 52.59375 \nL 48.78125 44.1875 \nQ 44.96875 46.296875 41.140625 47.34375 \nQ 37.3125 48.390625 33.40625 48.390625 \nQ 24.65625 48.390625 19.8125 42.84375 \nQ 14.984375 37.3125 14.984375 27.296875 \nQ 14.984375 17.28125 19.8125 11.734375 \nQ 24.65625 6.203125 33.40625 6.203125 \nQ 37.3125 6.203125 41.140625 7.25 \nQ 44.96875 8.296875 48.78125 10.40625 \nL 48.78125 2.09375 \nQ 45.015625 0.34375 40.984375 -0.53125 \nQ 36.96875 -1.421875 32.421875 -1.421875 \nQ 20.0625 -1.421875 12.78125 6.34375 \nQ 5.515625 14.109375 5.515625 27.296875 \nQ 5.515625 40.671875 12.859375 48.328125 \nQ 20.21875 56 33.015625 56 \nQ 37.15625 56 41.109375 55.140625 \nQ 45.0625 54.296875 48.78125 52.59375 \nz\n\" id=\"DejaVuSans-99\"/>\n    </defs>\n    <g transform=\"translate(194.942813 16.318125)scale(0.12 -0.12)\">\n     <use xlink:href=\"#DejaVuSans-116\"/>\n     <use x=\"39.208984\" xlink:href=\"#DejaVuSans-111\"/>\n     <use x=\"100.390625\" xlink:href=\"#DejaVuSans-112\"/>\n     <use x=\"163.867188\" xlink:href=\"#DejaVuSans-105\"/>\n     <use x=\"191.650391\" xlink:href=\"#DejaVuSans-99\"/>\n     <use x=\"246.630859\" xlink:href=\"#DejaVuSans-111\"/>\n    </g>\n   </g>\n  </g>\n </g>\n <defs>\n  <clipPath id=\"p6abdd687d3\">\n   <rect height=\"217.44\" width=\"334.8\" x=\"46.0125\" y=\"22.318125\"/>\n  </clipPath>\n </defs>\n</svg>\n",
      "image/png": "[encoded data removed]"
     },
     "metadata": {
      "needs_background": "light"
     }
    }
   ],
   "source": [
    "# Histograma con la distribucion de los topicos\n",
    "topicos.hist()"
   ]
  },
  {
   "cell_type": "markdown",
   "metadata": {},
   "source": [
    "### Preparacion de la informacion"
   ]
  },
  {
   "cell_type": "code",
   "execution_count": 5,
   "metadata": {},
   "outputs": [
    {
     "output_type": "execute_result",
     "data": {
      "text/plain": "           docId                                              texto\n0       ug7v899j  Clinical features of culture-proven Mycoplasma...\n1       02tnwd4m  Nitric oxide: a pro-inflammatory mediator in l...\n2       ejv2xln0  Surfactant protein-D and pulmonary host defens...\n3       2b73a28n  Role of endothelin-1 in lung disease Endotheli...\n4       9785vg6d  Gene expression in epithelial cells in respons...\n...          ...                                                ...\n128487  a11jyui1  Impact of BSE on the biotechnology industry — ...\n128488  9bma9y0q  Evolving Gene Targets and Technology in Influe...\n128489  50xhia4r                                                NaN\n128490  97h1fz34  Epidemic spreading in complex networks The stu...\n128491  clmtwq4v  The determinants of the 1999 and 2007 Chinese ...\n\n[128492 rows x 2 columns]",
      "text/html": "<div>\n<style scoped>\n    .dataframe tbody tr th:only-of-type {\n        vertical-align: middle;\n    }\n\n    .dataframe tbody tr th {\n        vertical-align: top;\n    }\n\n    .dataframe thead th {\n        text-align: right;\n    }\n</style>\n<table border=\"1\" class=\"dataframe\">\n  <thead>\n    <tr style=\"text-align: right;\">\n      <th></th>\n      <th>docId</th>\n      <th>texto</th>\n    </tr>\n  </thead>\n  <tbody>\n    <tr>\n      <th>0</th>\n      <td>ug7v899j</td>\n      <td>Clinical features of culture-proven Mycoplasma...</td>\n    </tr>\n    <tr>\n      <th>1</th>\n      <td>02tnwd4m</td>\n      <td>Nitric oxide: a pro-inflammatory mediator in l...</td>\n    </tr>\n    <tr>\n      <th>2</th>\n      <td>ejv2xln0</td>\n      <td>Surfactant protein-D and pulmonary host defens...</td>\n    </tr>\n    <tr>\n      <th>3</th>\n      <td>2b73a28n</td>\n      <td>Role of endothelin-1 in lung disease Endotheli...</td>\n    </tr>\n    <tr>\n      <th>4</th>\n      <td>9785vg6d</td>\n      <td>Gene expression in epithelial cells in respons...</td>\n    </tr>\n    <tr>\n      <th>...</th>\n      <td>...</td>\n      <td>...</td>\n    </tr>\n    <tr>\n      <th>128487</th>\n      <td>a11jyui1</td>\n      <td>Impact of BSE on the biotechnology industry — ...</td>\n    </tr>\n    <tr>\n      <th>128488</th>\n      <td>9bma9y0q</td>\n      <td>Evolving Gene Targets and Technology in Influe...</td>\n    </tr>\n    <tr>\n      <th>128489</th>\n      <td>50xhia4r</td>\n      <td>NaN</td>\n    </tr>\n    <tr>\n      <th>128490</th>\n      <td>97h1fz34</td>\n      <td>Epidemic spreading in complex networks The stu...</td>\n    </tr>\n    <tr>\n      <th>128491</th>\n      <td>clmtwq4v</td>\n      <td>The determinants of the 1999 and 2007 Chinese ...</td>\n    </tr>\n  </tbody>\n</table>\n<p>128492 rows × 2 columns</p>\n</div>"
     },
     "metadata": {},
     "execution_count": 5
    }
   ],
   "source": [
    "# Se crea nuevo dataframe unicamente con el id y el texto a evaluar\n",
    "texto = pd.DataFrame({'docId':originalData.cord_uid, 'texto':originalData.title+\" \"+originalData.abstract})\n",
    "texto"
   ]
  },
  {
   "cell_type": "code",
   "execution_count": 6,
   "metadata": {},
   "outputs": [
    {
     "output_type": "execute_result",
     "data": {
      "text/plain": "                                                      texto  topico\ndocId                                                              \nug7v899j  Clinical features of culture-proven Mycoplasma...     0.0\n02tnwd4m  Nitric oxide: a pro-inflammatory mediator in l...     3.0\nejv2xln0  Surfactant protein-D and pulmonary host defens...     4.0\n2b73a28n  Role of endothelin-1 in lung disease Endotheli...     4.0\n9785vg6d  Gene expression in epithelial cells in respons...     3.0\n...                                                     ...     ...\na11jyui1  Impact of BSE on the biotechnology industry — ...     3.0\n9bma9y0q  Evolving Gene Targets and Technology in Influe...     2.0\n50xhia4r                                                NaN     NaN\n97h1fz34  Epidemic spreading in complex networks The stu...     3.0\nclmtwq4v  The determinants of the 1999 and 2007 Chinese ...     3.0\n\n[128880 rows x 2 columns]",
      "text/html": "<div>\n<style scoped>\n    .dataframe tbody tr th:only-of-type {\n        vertical-align: middle;\n    }\n\n    .dataframe tbody tr th {\n        vertical-align: top;\n    }\n\n    .dataframe thead th {\n        text-align: right;\n    }\n</style>\n<table border=\"1\" class=\"dataframe\">\n  <thead>\n    <tr style=\"text-align: right;\">\n      <th></th>\n      <th>texto</th>\n      <th>topico</th>\n    </tr>\n    <tr>\n      <th>docId</th>\n      <th></th>\n      <th></th>\n    </tr>\n  </thead>\n  <tbody>\n    <tr>\n      <th>ug7v899j</th>\n      <td>Clinical features of culture-proven Mycoplasma...</td>\n      <td>0.0</td>\n    </tr>\n    <tr>\n      <th>02tnwd4m</th>\n      <td>Nitric oxide: a pro-inflammatory mediator in l...</td>\n      <td>3.0</td>\n    </tr>\n    <tr>\n      <th>ejv2xln0</th>\n      <td>Surfactant protein-D and pulmonary host defens...</td>\n      <td>4.0</td>\n    </tr>\n    <tr>\n      <th>2b73a28n</th>\n      <td>Role of endothelin-1 in lung disease Endotheli...</td>\n      <td>4.0</td>\n    </tr>\n    <tr>\n      <th>9785vg6d</th>\n      <td>Gene expression in epithelial cells in respons...</td>\n      <td>3.0</td>\n    </tr>\n    <tr>\n      <th>...</th>\n      <td>...</td>\n      <td>...</td>\n    </tr>\n    <tr>\n      <th>a11jyui1</th>\n      <td>Impact of BSE on the biotechnology industry — ...</td>\n      <td>3.0</td>\n    </tr>\n    <tr>\n      <th>9bma9y0q</th>\n      <td>Evolving Gene Targets and Technology in Influe...</td>\n      <td>2.0</td>\n    </tr>\n    <tr>\n      <th>50xhia4r</th>\n      <td>NaN</td>\n      <td>NaN</td>\n    </tr>\n    <tr>\n      <th>97h1fz34</th>\n      <td>Epidemic spreading in complex networks The stu...</td>\n      <td>3.0</td>\n    </tr>\n    <tr>\n      <th>clmtwq4v</th>\n      <td>The determinants of the 1999 and 2007 Chinese ...</td>\n      <td>3.0</td>\n    </tr>\n  </tbody>\n</table>\n<p>128880 rows × 2 columns</p>\n</div>"
     },
     "metadata": {},
     "execution_count": 6
    }
   ],
   "source": [
    "# Se agrega columna con la categoria\n",
    "textoCategorizado = texto.set_index('docId').join(topicos.set_index('docId'),on='docId')\n",
    "textoCategorizado"
   ]
  },
  {
   "cell_type": "code",
   "execution_count": 7,
   "metadata": {},
   "outputs": [
    {
     "output_type": "execute_result",
     "data": {
      "text/plain": "                                                      texto  topico\ndocId                                                              \nug7v899j  Clinical features of culture-proven Mycoplasma...     0.0\n02tnwd4m  Nitric oxide: a pro-inflammatory mediator in l...     3.0\nejv2xln0  Surfactant protein-D and pulmonary host defens...     4.0\n2b73a28n  Role of endothelin-1 in lung disease Endotheli...     4.0\n9785vg6d  Gene expression in epithelial cells in respons...     3.0\n...                                                     ...     ...\njvl63652  Dual Analysis of the Murine Cytomegalovirus an...     3.0\na11jyui1  Impact of BSE on the biotechnology industry — ...     3.0\n9bma9y0q  Evolving Gene Targets and Technology in Influe...     2.0\n97h1fz34  Epidemic spreading in complex networks The stu...     3.0\nclmtwq4v  The determinants of the 1999 and 2007 Chinese ...     3.0\n\n[101992 rows x 2 columns]",
      "text/html": "<div>\n<style scoped>\n    .dataframe tbody tr th:only-of-type {\n        vertical-align: middle;\n    }\n\n    .dataframe tbody tr th {\n        vertical-align: top;\n    }\n\n    .dataframe thead th {\n        text-align: right;\n    }\n</style>\n<table border=\"1\" class=\"dataframe\">\n  <thead>\n    <tr style=\"text-align: right;\">\n      <th></th>\n      <th>texto</th>\n      <th>topico</th>\n    </tr>\n    <tr>\n      <th>docId</th>\n      <th></th>\n      <th></th>\n    </tr>\n  </thead>\n  <tbody>\n    <tr>\n      <th>ug7v899j</th>\n      <td>Clinical features of culture-proven Mycoplasma...</td>\n      <td>0.0</td>\n    </tr>\n    <tr>\n      <th>02tnwd4m</th>\n      <td>Nitric oxide: a pro-inflammatory mediator in l...</td>\n      <td>3.0</td>\n    </tr>\n    <tr>\n      <th>ejv2xln0</th>\n      <td>Surfactant protein-D and pulmonary host defens...</td>\n      <td>4.0</td>\n    </tr>\n    <tr>\n      <th>2b73a28n</th>\n      <td>Role of endothelin-1 in lung disease Endotheli...</td>\n      <td>4.0</td>\n    </tr>\n    <tr>\n      <th>9785vg6d</th>\n      <td>Gene expression in epithelial cells in respons...</td>\n      <td>3.0</td>\n    </tr>\n    <tr>\n      <th>...</th>\n      <td>...</td>\n      <td>...</td>\n    </tr>\n    <tr>\n      <th>jvl63652</th>\n      <td>Dual Analysis of the Murine Cytomegalovirus an...</td>\n      <td>3.0</td>\n    </tr>\n    <tr>\n      <th>a11jyui1</th>\n      <td>Impact of BSE on the biotechnology industry — ...</td>\n      <td>3.0</td>\n    </tr>\n    <tr>\n      <th>9bma9y0q</th>\n      <td>Evolving Gene Targets and Technology in Influe...</td>\n      <td>2.0</td>\n    </tr>\n    <tr>\n      <th>97h1fz34</th>\n      <td>Epidemic spreading in complex networks The stu...</td>\n      <td>3.0</td>\n    </tr>\n    <tr>\n      <th>clmtwq4v</th>\n      <td>The determinants of the 1999 and 2007 Chinese ...</td>\n      <td>3.0</td>\n    </tr>\n  </tbody>\n</table>\n<p>101992 rows × 2 columns</p>\n</div>"
     },
     "metadata": {},
     "execution_count": 7
    }
   ],
   "source": [
    "# Se eliminan las filas nulas, no tienen ni titulo ni texto por lo que no se pueden analizar\n",
    "textoCategorizado = textoCategorizado.dropna()\n",
    "textoCategorizado"
   ]
  },
  {
   "cell_type": "markdown",
   "metadata": {},
   "source": [
    "### Preparacion del texto\n",
    "\n",
    "Se realiza limpieza del texto. Se utilizan algoritmos de nltk,\n",
    "diferentes a los utilizados en la deteccion de topicos con el\n",
    "fin de evaluar la precisión del modelo"
   ]
  },
  {
   "cell_type": "code",
   "execution_count": 8,
   "metadata": {},
   "outputs": [],
   "source": [
    "# Funcion que limpia un documento para ser llamada de forma paralela\n",
    "stopwordsEnglish = set(stopwords.words('english'))\n",
    "porter = PorterStemmer()\n",
    "def limpiarDoc(documento):\n",
    "    # Tokenizacion\n",
    "    tokens = nltk.word_tokenize(documento)\n",
    "    # Eliminacion de caracteres especiales\n",
    "    tokens = [re.sub(r'[^A-Za-z0-9]+',' ',w) for w in tokens]\n",
    "    # Paso de tokens a minusculas\n",
    "    tokens = [w.lower() for w in tokens if len(w) > 1]\n",
    "    # Eliminacion de stopwords\n",
    "    tokens = [w for w in tokens if w not in stopwordsEnglish]\n",
    "    # Lemma\n",
    "    lemmatizer = WordNetLemmatizer()\n",
    "    tokens = [lemmatizer.lemmatize(w) for w in tokens]\n",
    "    # Stemming\n",
    "    tokens = [porter.stem(w) for w in tokens]\n",
    "    tokens = ' '.join(tokens)\n",
    "    return tokens\n",
    "\n",
    "\n"
   ]
  },
  {
   "cell_type": "code",
   "execution_count": 9,
   "metadata": {},
   "outputs": [
    {
     "output_type": "stream",
     "name": "stdout",
     "text": "Tiempo tomado: 98.41768956184387\n"
    }
   ],
   "source": [
    "# Se realiza limpieza y tokenizacion de forma paralela\n",
    "t0 = time.time()\n",
    "pool = mp.Pool()\n",
    "textoCategorizado['tokens'] = pool.map(limpiarDoc, textoCategorizado['texto'])\n",
    "pool.close()\n",
    "print('Tiempo tomado: '+str(time.time()-t0))\n"
   ]
  },
  {
   "cell_type": "code",
   "execution_count": 10,
   "metadata": {},
   "outputs": [
    {
     "output_type": "execute_result",
     "data": {
      "text/plain": "                                                      texto  topico  \\\ndocId                                                                 \nug7v899j  Clinical features of culture-proven Mycoplasma...     0.0   \n02tnwd4m  Nitric oxide: a pro-inflammatory mediator in l...     3.0   \nejv2xln0  Surfactant protein-D and pulmonary host defens...     4.0   \n2b73a28n  Role of endothelin-1 in lung disease Endotheli...     4.0   \n9785vg6d  Gene expression in epithelial cells in respons...     3.0   \n...                                                     ...     ...   \njvl63652  Dual Analysis of the Murine Cytomegalovirus an...     3.0   \na11jyui1  Impact of BSE on the biotechnology industry — ...     3.0   \n9bma9y0q  Evolving Gene Targets and Technology in Influe...     2.0   \n97h1fz34  Epidemic spreading in complex networks The stu...     3.0   \nclmtwq4v  The determinants of the 1999 and 2007 Chinese ...     3.0   \n\n                                                     tokens  \ndocId                                                        \nug7v899j  clinic featur culture proven mycoplasma pneumo...  \n02tnwd4m  nitric oxid pro inflammatori mediat lung disea...  \nejv2xln0  surfact protein d pulmonari host defens surfac...  \n2b73a28n  role endothelin 1 lung diseas endothelin 1 et ...  \n9785vg6d  gene express epitheli cell respons pneumoviru ...  \n...                                                     ...  \njvl63652  dual analysi murin cytomegaloviru host cell tr...  \na11jyui1  impact bse biotechnolog industri detect risk a...  \n9bma9y0q  evolv gene target technolog influenza detect i...  \n97h1fz34  epidem spread complex network studi epidem spr...  \nclmtwq4v  determin 1999 2007 chines golden holiday syste...  \n\n[101992 rows x 3 columns]",
      "text/html": "<div>\n<style scoped>\n    .dataframe tbody tr th:only-of-type {\n        vertical-align: middle;\n    }\n\n    .dataframe tbody tr th {\n        vertical-align: top;\n    }\n\n    .dataframe thead th {\n        text-align: right;\n    }\n</style>\n<table border=\"1\" class=\"dataframe\">\n  <thead>\n    <tr style=\"text-align: right;\">\n      <th></th>\n      <th>texto</th>\n      <th>topico</th>\n      <th>tokens</th>\n    </tr>\n    <tr>\n      <th>docId</th>\n      <th></th>\n      <th></th>\n      <th></th>\n    </tr>\n  </thead>\n  <tbody>\n    <tr>\n      <th>ug7v899j</th>\n      <td>Clinical features of culture-proven Mycoplasma...</td>\n      <td>0.0</td>\n      <td>clinic featur culture proven mycoplasma pneumo...</td>\n    </tr>\n    <tr>\n      <th>02tnwd4m</th>\n      <td>Nitric oxide: a pro-inflammatory mediator in l...</td>\n      <td>3.0</td>\n      <td>nitric oxid pro inflammatori mediat lung disea...</td>\n    </tr>\n    <tr>\n      <th>ejv2xln0</th>\n      <td>Surfactant protein-D and pulmonary host defens...</td>\n      <td>4.0</td>\n      <td>surfact protein d pulmonari host defens surfac...</td>\n    </tr>\n    <tr>\n      <th>2b73a28n</th>\n      <td>Role of endothelin-1 in lung disease Endotheli...</td>\n      <td>4.0</td>\n      <td>role endothelin 1 lung diseas endothelin 1 et ...</td>\n    </tr>\n    <tr>\n      <th>9785vg6d</th>\n      <td>Gene expression in epithelial cells in respons...</td>\n      <td>3.0</td>\n      <td>gene express epitheli cell respons pneumoviru ...</td>\n    </tr>\n    <tr>\n      <th>...</th>\n      <td>...</td>\n      <td>...</td>\n      <td>...</td>\n    </tr>\n    <tr>\n      <th>jvl63652</th>\n      <td>Dual Analysis of the Murine Cytomegalovirus an...</td>\n      <td>3.0</td>\n      <td>dual analysi murin cytomegaloviru host cell tr...</td>\n    </tr>\n    <tr>\n      <th>a11jyui1</th>\n      <td>Impact of BSE on the biotechnology industry — ...</td>\n      <td>3.0</td>\n      <td>impact bse biotechnolog industri detect risk a...</td>\n    </tr>\n    <tr>\n      <th>9bma9y0q</th>\n      <td>Evolving Gene Targets and Technology in Influe...</td>\n      <td>2.0</td>\n      <td>evolv gene target technolog influenza detect i...</td>\n    </tr>\n    <tr>\n      <th>97h1fz34</th>\n      <td>Epidemic spreading in complex networks The stu...</td>\n      <td>3.0</td>\n      <td>epidem spread complex network studi epidem spr...</td>\n    </tr>\n    <tr>\n      <th>clmtwq4v</th>\n      <td>The determinants of the 1999 and 2007 Chinese ...</td>\n      <td>3.0</td>\n      <td>determin 1999 2007 chines golden holiday syste...</td>\n    </tr>\n  </tbody>\n</table>\n<p>101992 rows × 3 columns</p>\n</div>"
     },
     "metadata": {},
     "execution_count": 10
    }
   ],
   "source": [
    "textoCategorizado"
   ]
  },
  {
   "cell_type": "markdown",
   "metadata": {},
   "source": [
    "### Preparación del modelo"
   ]
  },
  {
   "cell_type": "code",
   "execution_count": 11,
   "metadata": {},
   "outputs": [],
   "source": [
    "# TF\n",
    "countVector = CountVectorizer(min_df=8)\n",
    "termFrecuency = countVector.fit_transform(textoCategorizado.texto)"
   ]
  },
  {
   "cell_type": "code",
   "execution_count": 12,
   "metadata": {},
   "outputs": [],
   "source": [
    "# TF IDF\n",
    "tfidfTrans = TfidfTransformer().fit(termFrecuency)\n",
    "tfidfVector = tfidfTrans.transform(termFrecuency)"
   ]
  },
  {
   "cell_type": "markdown",
   "metadata": {},
   "source": [
    "### Aplicación del modelo"
   ]
  },
  {
   "cell_type": "code",
   "execution_count": 13,
   "metadata": {},
   "outputs": [],
   "source": [
    "# Se separa el conjunto de entrenamiento y el de test\n",
    "x_train, x_test, y_train, y_test = train_test_split(tfidfVector, textoCategorizado.topico)"
   ]
  },
  {
   "cell_type": "code",
   "execution_count": 14,
   "metadata": {},
   "outputs": [],
   "source": [
    "# Entrenamiento del modelo\n",
    "model = MultinomialNB().fit(x_train, y_train)"
   ]
  },
  {
   "cell_type": "markdown",
   "metadata": {},
   "source": [
    "### Evaluación del modelo"
   ]
  },
  {
   "cell_type": "code",
   "execution_count": 15,
   "metadata": {},
   "outputs": [
    {
     "output_type": "stream",
     "name": "stdout",
     "text": "Precision del modelo: 78.59%\n"
    }
   ],
   "source": [
    "prediccion = model.predict(x_test)\n",
    "precision = np.mean(prediccion == y_test)\n",
    "print('Precision del modelo: {0:.2%}'.format(precision))"
   ]
  },
  {
   "cell_type": "markdown",
   "metadata": {},
   "source": [
    "## Clasificación de documentos SVM\n",
    "\n",
    "Se realiza clasificación con SVM para comparar con el modelo aplicado de Naive Bayes"
   ]
  },
  {
   "cell_type": "code",
   "execution_count": 16,
   "metadata": {},
   "outputs": [
    {
     "output_type": "execute_result",
     "data": {
      "text/plain": "SVC(C=1.0, break_ties=False, cache_size=200, class_weight=None, coef0=0.0,\n    decision_function_shape='ovr', degree=3, gamma='auto', kernel='linear',\n    max_iter=-1, probability=False, random_state=None, shrinking=True,\n    tol=0.001, verbose=False)"
     },
     "metadata": {},
     "execution_count": 16
    }
   ],
   "source": [
    "clasificador = svm.SVC(C=1.0, kernel='linear', degree=3, gamma='auto')\n",
    "clasificador.fit(x_train, y_train)"
   ]
  },
  {
   "cell_type": "markdown",
   "metadata": {},
   "source": [
    "### Evaluación del modelo"
   ]
  },
  {
   "cell_type": "code",
   "execution_count": null,
   "metadata": {},
   "outputs": [],
   "source": [
    "prediccion = clasificador.predict(x_test)\n",
    "precision = np.mean(prediccion == y_test)\n",
    "print('Precision del modelo: {0:.2%}'.format(precision))"
   ]
  },
  {
   "cell_type": "markdown",
   "metadata": {},
   "source": [
    "### Ejecución del modelo"
   ]
  },
  {
   "cell_type": "code",
   "execution_count": 28,
   "metadata": {},
   "outputs": [],
   "source": [
    "def categorizarBayes(documento):\n",
    "    tokens = limpiarDoc(documento)\n",
    "    tf = countVector.transform([tokens])\n",
    "    tfidf = tfidfTrans.transform(tf)\n",
    "    return model.predict(tfidf)\n",
    "\n",
    "def categorizarSVM(documento):\n",
    "    tokens = limpiarDoc(documento)\n",
    "    tf = countVector.transform([tokens])\n",
    "    tfidf = tfidfTrans.transform(tf)\n",
    "    return clasificador.predict(tfidf)"
   ]
  },
  {
   "cell_type": "code",
   "execution_count": 30,
   "metadata": {},
   "outputs": [
    {
     "output_type": "stream",
     "name": "stdout",
     "text": "Bayes Topico: [3.] Tiempo tomado: 0.004874229431152344\nSVM Topico: [3.] Tiempo tomado: 0.029401063919067383\n"
    }
   ],
   "source": [
    "documentos = 'Breakthrough: Chloroquine phosphate has shown apparent efficacy in treatment of COVID-19 associated pneumonia in clinical studies The coronavirus disease 2019 (COVID-19) virus is spreading rapidly, and scientists are endeavoring to discover drugs for its efficacious treatment in China. Chloroquine phosphate, an old drug for treatment of malaria, is shown to have apparent efficacy and acceptable safety against COVID-19 associated pneumonia in multicenter clinical trials conducted in China. The drug is recommended to be included in the next version of the Guidelines for the Prevention, Diagnosis, and Treatment of Pneumonia Caused by COVID-19 issued by the National Health Commission of the People s Republic of China for treatment of COVID-19 infection in larger populations in the future'\n",
    "# Prediccion Bayes\n",
    "t0 = time.time()\n",
    "topicoBayes = categorizarBayes(documentos)\n",
    "print('Bayes Topico: '+str(topicoBayes)+' Tiempo tomado: '+str(time.time()-t0))\n",
    "\n",
    "# Prediccion SVM\n",
    "t0 = time.time()\n",
    "topicoSVM = categorizarSVM(documentos)\n",
    "print('SVM Topico: '+str(topicoSVM)+' Tiempo tomado: '+str(time.time()-t0))"
   ]
  }
 ],
 "metadata": {
  "language_info": {
   "codemirror_mode": {
    "name": "ipython",
    "version": 3
   },
   "file_extension": ".py",
   "mimetype": "text/x-python",
   "name": "python",
   "nbconvert_exporter": "python",
   "pygments_lexer": "ipython3",
   "version": "3.7.6-final"
  },
  "orig_nbformat": 2,
  "kernelspec": {
   "name": "python3",
   "display_name": "Python 3"
  }
 },
 "nbformat": 4,
 "nbformat_minor": 2
}