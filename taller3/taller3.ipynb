{
 "cells": [
  {
   "cell_type": "markdown",
   "metadata": {},
   "source": [
    "# Taller 3\n",
    "\n",
    "**Autor:** Juan Pablo Gaviria\n",
    "\n",
    "## Deteccion de Topicos\n",
    "\n",
    "Se realizará la detección de Topicos con pySpark y LDA"
   ]
  },
  {
   "cell_type": "markdown",
   "metadata": {},
   "source": [
    "### Configuración Spark"
   ]
  },
  {
   "cell_type": "code",
   "execution_count": 25,
   "metadata": {},
   "outputs": [],
   "source": [
    "# Importacion de dependencias\n",
    "import pyspark\n",
    "from pyspark.context import SparkContext\n",
    "from pyspark.sql.session import SparkSession\n",
    "from pyspark.ml.feature import Tokenizer,CountVectorizer,IDF\n",
    "from pyspark.sql.functions import *\n",
    "from pyspark.sql.types import *\n",
    "import re\n",
    "from pyspark.ml.feature import StopWordsRemover\n",
    "import nltk\n",
    "from nltk.stem import LancasterStemmer\n",
    "from nltk.stem import WordNetLemmatizer\n",
    "import numpy as np\n",
    "import pyLDAvis\n",
    "from pyspark.ml.clustering import LDA"
   ]
  },
  {
   "cell_type": "code",
   "execution_count": 2,
   "metadata": {},
   "outputs": [],
   "source": [
    "# Creación de session en pyspark\n",
    "sc = SparkContext('local','Covid-Topics-Detection')\n",
    "spark = SparkSession(sc)"
   ]
  },
  {
   "cell_type": "code",
   "execution_count": 3,
   "metadata": {},
   "outputs": [
    {
     "output_type": "stream",
     "name": "stdout",
     "text": "+--------+--------------------+--------+--------------------+--------------------+--------+---------+-------+--------------------+------------+--------------------+--------------+------+----------------+--------+--------------------+--------------------+--------------------+-----+\n|cord_uid|                 sha|source_x|               title|                 doi|   pmcid|pubmed_id|license|            abstract|publish_time|             authors|       journal|mag_id|who_covidence_id|arxiv_id|      pdf_json_files|      pmc_json_files|                 url|s2_id|\n+--------+--------------------+--------+--------------------+--------------------+--------+---------+-------+--------------------+------------+--------------------+--------------+------+----------------+--------+--------------------+--------------------+--------------------+-----+\n|ug7v899j|d1aafb70c066a2068...|     PMC|Clinical features...|10.1186/1471-2334...|PMC35282| 11472636|  no-cc|OBJECTIVE: This r...|  2001-07-04|Madani, Tariq A; ...|BMC Infect Dis|  null|            null|    null|document_parses/p...|document_parses/p...|https://www.ncbi....| null|\n|02tnwd4m|6b0567729c2143a66...|     PMC|Nitric oxide: a p...|        10.1186/rr14|PMC59543| 11667967|  no-cc|Inflammatory dise...|  2000-08-15|Vliet, Albert van...|    Respir Res|  null|            null|    null|document_parses/p...|document_parses/p...|https://www.ncbi....| null|\n|ejv2xln0|06ced00a5fc042159...|     PMC|Surfactant protei...|        10.1186/rr19|PMC59549| 11667972|  no-cc|Surfactant protei...|  2000-08-25|     Crouch, Erika C|    Respir Res|  null|            null|    null|document_parses/p...|document_parses/p...|https://www.ncbi....| null|\n|2b73a28n|348055649b6b8cf2b...|     PMC|Role of endotheli...|        10.1186/rr44|PMC59574| 11686871|  no-cc|Endothelin-1 (ET-...|  2001-02-22|Fagan, Karen A; M...|    Respir Res|  null|            null|    null|document_parses/p...|document_parses/p...|https://www.ncbi....| null|\n|9785vg6d|5f48792a5fa08bed9...|     PMC|Gene expression i...|        10.1186/rr61|PMC59580| 11686888|  no-cc|Respiratory syncy...|  2001-05-11|Domachowske, Jose...|    Respir Res|  null|            null|    null|document_parses/p...|document_parses/p...|https://www.ncbi....| null|\n+--------+--------------------+--------+--------------------+--------------------+--------+---------+-------+--------------------+------------+--------------------+--------------+------+----------------+--------+--------------------+--------------------+--------------------+-----+\nonly showing top 5 rows\n\n"
    }
   ],
   "source": [
    "# Lectura de datos\n",
    "initialDataSet = spark.read.csv('/home/jgaviria/Workspace/DataScience/datasets/metadata.csv', inferSchema=True, header=True)\n",
    "initialDataSet.show(5)"
   ]
  },
  {
   "cell_type": "markdown",
   "metadata": {},
   "source": [
    "### Preparación de Texto"
   ]
  },
  {
   "cell_type": "code",
   "execution_count": 4,
   "metadata": {},
   "outputs": [
    {
     "output_type": "stream",
     "name": "stdout",
     "text": "+--------+--------+--------------------+--------------------+------------+--------------------+----------------+\n|cord_uid|source_x|               title|            abstract|publish_time|             authors|         journal|\n+--------+--------+--------------------+--------------------+------------+--------------------+----------------+\n|ug7v899j|     PMC|Clinical features...|OBJECTIVE: This r...|  2001-07-04|Madani, Tariq A; ...|  BMC Infect Dis|\n|02tnwd4m|     PMC|Nitric oxide: a p...|Inflammatory dise...|  2000-08-15|Vliet, Albert van...|      Respir Res|\n|ejv2xln0|     PMC|Surfactant protei...|Surfactant protei...|  2000-08-25|     Crouch, Erika C|      Respir Res|\n|2b73a28n|     PMC|Role of endotheli...|Endothelin-1 (ET-...|  2001-02-22|Fagan, Karen A; M...|      Respir Res|\n|9785vg6d|     PMC|Gene expression i...|Respiratory syncy...|  2001-05-11|Domachowske, Jose...|      Respir Res|\n|zjufx4fo|     PMC|Sequence requirem...|Nidovirus subgeno...|  2001-12-17|Pasternak, Alexan...|The EMBO Journal|\n|ymceytj3|     PMC|Crystal structure...|CEACAM1 is a memb...|  2002-05-01|Tan, Kemin; Zelus...|The EMBO Journal|\n|wzj2glte|     PMC|Synthesis of a no...|Hepatitis C virus...|  2001-07-16|Xu, Zhenming; Cho...|          EMBO J|\n|2sfqsfm1|     PMC|Structure of coro...|The key enzyme in...|  2002-07-01|Anand, Kanchan; P...|The EMBO Journal|\n|i0zym7iq|     PMC|Discontinuous and...|Arteri-, corona-,...|  2002-12-01|van Vliet, A.L.W....|The EMBO Journal|\n+--------+--------+--------------------+--------------------+------------+--------------------+----------------+\nonly showing top 10 rows\n\n"
    },
    {
     "output_type": "execute_result",
     "data": {
      "text/plain": "128492"
     },
     "metadata": {},
     "execution_count": 4
    }
   ],
   "source": [
    "# Se eliminan las columnas que no se utilizaran\n",
    "dataSet = initialDataSet.drop('sha','doi','pmcid','pubmed_id','license','mag_id','who_covidence_id','arxiv_id','pdf_json_files','pmc_json_files','url','s2_id')\n",
    "dataSet.show(10)\n",
    "dataSet.count()"
   ]
  },
  {
   "cell_type": "code",
   "execution_count": 5,
   "metadata": {
    "tags": [
     "outputPrepend"
    ]
   },
   "outputs": [
    {
     "output_type": "stream",
     "name": "stdout",
     "text": "+--------+--------------------+\n|cord_uid|               texto|\n+--------+--------------------+\n|ug7v899j|Clinical features...|\n|02tnwd4m|Nitric oxide: a p...|\n|ejv2xln0|Surfactant protei...|\n|2b73a28n|Role of endotheli...|\n|9785vg6d|Gene expression i...|\n+--------+--------------------+\nonly showing top 5 rows\n\nNumero de documentos: 128492\n"
    }
   ],
   "source": [
    "# Se crea un dataframe unicamente con el id y el texto que se utilizara para la mineria\n",
    "dataSet.registerTempTable('df')\n",
    "text = spark.sql(\"select cord_uid, concat(title,' ',abstract) texto from df\")\n",
    "text.show(5)\n",
    "print('Numero de documentos: ' + str(text.count()))"
   ]
  },
  {
   "cell_type": "code",
   "execution_count": 6,
   "metadata": {},
   "outputs": [
    {
     "output_type": "stream",
     "name": "stdout",
     "text": "+--------+--------------------+\n|cord_uid|               texto|\n+--------+--------------------+\n|ug7v899j|Clinical features...|\n|02tnwd4m|Nitric oxide: a p...|\n|ejv2xln0|Surfactant protei...|\n|2b73a28n|Role of endotheli...|\n|9785vg6d|Gene expression i...|\n+--------+--------------------+\nonly showing top 5 rows\n\nNumero de documentos: 101638\n"
    }
   ],
   "source": [
    "# Se remueven las filas nulas\n",
    "text = text.na.drop()\n",
    "text.show(5)\n",
    "print('Numero de documentos: '+str(text.count()))"
   ]
  },
  {
   "cell_type": "code",
   "execution_count": 7,
   "metadata": {},
   "outputs": [],
   "source": [
    "def arraySize(lista):\n",
    "    return len(lista)"
   ]
  },
  {
   "cell_type": "code",
   "execution_count": 8,
   "metadata": {},
   "outputs": [
    {
     "output_type": "stream",
     "name": "stdout",
     "text": "+--------+--------------------+--------------------+\n|cord_uid|               texto|              tokens|\n+--------+--------------------+--------------------+\n|ug7v899j|Clinical features...|[clinical, featur...|\n|02tnwd4m|Nitric oxide: a p...|[nitric, oxide:, ...|\n|ejv2xln0|Surfactant protei...|[surfactant, prot...|\n|2b73a28n|Role of endotheli...|[role, of, endoth...|\n|9785vg6d|Gene expression i...|[gene, expression...|\n+--------+--------------------+--------------------+\nonly showing top 5 rows\n\n"
    }
   ],
   "source": [
    "# Se tokeniza la columna de texto\n",
    "tokenizerObj = Tokenizer(inputCol='texto', outputCol='tokens')\n",
    "text = tokenizerObj.transform(text)\n",
    "text.show(5)"
   ]
  },
  {
   "cell_type": "code",
   "execution_count": 9,
   "metadata": {},
   "outputs": [
    {
     "output_type": "stream",
     "name": "stdout",
     "text": "+--------+--------------------+--------------------+-------------+\n|cord_uid|               texto|              tokens|numero_tokens|\n+--------+--------------------+--------------------+-------------+\n|ug7v899j|Clinical features...|[clinical, featur...|          277|\n|02tnwd4m|Nitric oxide: a p...|[nitric, oxide:, ...|          150|\n|ejv2xln0|Surfactant protei...|[surfactant, prot...|          225|\n|2b73a28n|Role of endotheli...|[role, of, endoth...|           74|\n|9785vg6d|Gene expression i...|[gene, expression...|          120|\n|zjufx4fo|Sequence requirem...|[sequence, requir...|          186|\n|ymceytj3|Crystal structure...|[crystal, structu...|          127|\n|wzj2glte|Synthesis of a no...|[synthesis, of, a...|          161|\n|2sfqsfm1|Structure of coro...|[structure, of, c...|          188|\n|i0zym7iq|Discontinuous and...|[discontinuous, a...|          183|\n|5yhe786e|Debate: Transfusi...|[debate:, transfu...|          123|\n|8zchiykl|The 21st Internat...|[the, 21st, inter...|           98|\n|xqhn0vbp|Airborne rhinovir...|[airborne, rhinov...|          255|\n|gi6uaa83|Discovering human...|[discovering, hum...|           64|\n|0m32ecnu|Prokaryotic-style...|[prokaryotic-styl...|          189|\n|le0ogx1s|A new recruit for...|[a, new, recruit,...|           39|\n|8qnrcgnk|Heme oxygenase-1 ...|[heme, oxygenase-...|          196|\n|3oxzzxnd|SseG, a virulence...|[sseg,, a, virule...|          184|\n|fy4w7xz8|Association of HL...|[association, of,...|          261|\n|jg13scgo|Technical Descrip...|[technical, descr...|          199|\n+--------+--------------------+--------------------+-------------+\nonly showing top 20 rows\n\n"
    }
   ],
   "source": [
    "# Se agrega columna con el numero total de tokens\n",
    "udfArraySize = udf(arraySize, IntegerType())\n",
    "text = text.withColumn('numero_tokens', udfArraySize(col('tokens')))\n",
    "text.show(20)"
   ]
  },
  {
   "cell_type": "code",
   "execution_count": 10,
   "metadata": {},
   "outputs": [
    {
     "output_type": "stream",
     "name": "stdout",
     "text": "+--------+--------------------+--------------------+-------------+\n|cord_uid|               texto|              tokens|numero_tokens|\n+--------+--------------------+--------------------+-------------+\n|ug7v899j|Clinical features...|[clinical, featur...|          235|\n|02tnwd4m|Nitric oxide: a p...|[nitric, oxide, p...|          149|\n|ejv2xln0|Surfactant protei...|[surfactant, prot...|          222|\n|2b73a28n|Role of endotheli...|[role, of, endoth...|           70|\n|9785vg6d|Gene expression i...|[gene, expression...|          119|\n|zjufx4fo|Sequence requirem...|[sequence, requir...|          180|\n|ymceytj3|Crystal structure...|[crystal, structu...|          122|\n|wzj2glte|Synthesis of a no...|[synthesis, of, n...|          147|\n|2sfqsfm1|Structure of coro...|[structure, of, c...|          175|\n|i0zym7iq|Discontinuous and...|[discontinuous, a...|          169|\n+--------+--------------------+--------------------+-------------+\nonly showing top 10 rows\n\n"
    }
   ],
   "source": [
    "# Eliminar caracteres no alfabeticos\n",
    "def noAlphaRemove_udf(x):\n",
    "    newTokens = [re.sub(r'[^A-Za-z]+','',w) for w in x]\n",
    "    newTokens = [w.lower() for w in newTokens if len(w) > 1]\n",
    "    return newTokens\n",
    "noAlphaRemove = udf(lambda s: noAlphaRemove_udf(s), ArrayType(StringType()))\n",
    "\n",
    "text = text.withColumn('tokens', noAlphaRemove(col('tokens')))\n",
    "text = text.withColumn('numero_tokens', udfArraySize(col('tokens')))\n",
    "text.show(10)"
   ]
  },
  {
   "cell_type": "code",
   "execution_count": 11,
   "metadata": {},
   "outputs": [
    {
     "output_type": "stream",
     "name": "stdout",
     "text": "+--------+--------------------+--------------------+--------------------+-------------+\n|cord_uid|               texto|              tokens|        noStopTokens|numero_tokens|\n+--------+--------------------+--------------------+--------------------+-------------+\n|ug7v899j|Clinical features...|[clinical, featur...|[clinical, featur...|          139|\n|02tnwd4m|Nitric oxide: a p...|[nitric, oxide, p...|[nitric, oxide, p...|           84|\n|ejv2xln0|Surfactant protei...|[surfactant, prot...|[surfactant, prot...|          142|\n|2b73a28n|Role of endotheli...|[role, of, endoth...|[role, endothelin...|           44|\n|9785vg6d|Gene expression i...|[gene, expression...|[gene, expression...|           81|\n|zjufx4fo|Sequence requirem...|[sequence, requir...|[sequence, requir...|          122|\n|ymceytj3|Crystal structure...|[crystal, structu...|[crystal, structu...|           81|\n|wzj2glte|Synthesis of a no...|[synthesis, of, n...|[synthesis, novel...|           90|\n|2sfqsfm1|Structure of coro...|[structure, of, c...|[structure, coron...|          109|\n|i0zym7iq|Discontinuous and...|[discontinuous, a...|[discontinuous, n...|          118|\n|5yhe786e|Debate: Transfusi...|[debate, transfus...|[debate, transfus...|           81|\n|8zchiykl|The 21st Internat...|[the, st, interna...|[st, internationa...|           63|\n|xqhn0vbp|Airborne rhinovir...|[airborne, rhinov...|[airborne, rhinov...|          164|\n|gi6uaa83|Discovering human...|[discovering, hum...|[discovering, hum...|           40|\n|0m32ecnu|Prokaryotic-style...|[prokaryoticstyle...|[prokaryoticstyle...|          117|\n|le0ogx1s|A new recruit for...|[new, recruit, fo...|[new, recruit, ar...|           21|\n|8qnrcgnk|Heme oxygenase-1 ...|[heme, oxygenase,...|[heme, oxygenase,...|          127|\n|3oxzzxnd|SseG, a virulence...|[sseg, virulence,...|[sseg, virulence,...|          112|\n|fy4w7xz8|Association of HL...|[association, of,...|[association, hla...|          161|\n|jg13scgo|Technical Descrip...|[technical, descr...|[technical, descr...|          131|\n+--------+--------------------+--------------------+--------------------+-------------+\nonly showing top 20 rows\n\n"
    }
   ],
   "source": [
    "# Eliminar stopWords\n",
    "stopWordRemover=StopWordsRemover(inputCol='tokens',outputCol='noStopTokens')\n",
    "text = stopWordRemover.transform(text)\n",
    "text = text.drop(col('numero_tokens'))\n",
    "text = text.withColumn('numero_tokens', udfArraySize(col('noStopTokens')))\n",
    "text.show(20)"
   ]
  },
  {
   "cell_type": "code",
   "execution_count": 12,
   "metadata": {},
   "outputs": [
    {
     "output_type": "stream",
     "name": "stdout",
     "text": "+--------+--------------------+--------------------+--------------------+--------------------+-------------+\n|cord_uid|               texto|              tokens|        noStopTokens|         StemmTokens|numero_tokens|\n+--------+--------------------+--------------------+--------------------+--------------------+-------------+\n|ug7v899j|Clinical features...|[clinical, featur...|[clinical, featur...|[clin, feat, cult...|          139|\n|02tnwd4m|Nitric oxide: a p...|[nitric, oxide, p...|[nitric, oxide, p...|[nit, oxid, proin...|           84|\n|ejv2xln0|Surfactant protei...|[surfactant, prot...|[surfactant, prot...|[surfact, protein...|          142|\n|2b73a28n|Role of endotheli...|[role, of, endoth...|[role, endothelin...|[rol, endothelin,...|           44|\n|9785vg6d|Gene expression i...|[gene, expression...|[gene, expression...|[gen, express, ep...|           81|\n|zjufx4fo|Sequence requirem...|[sequence, requir...|[sequence, requir...|[sequ, requir, rn...|          122|\n|ymceytj3|Crystal structure...|[crystal, structu...|[crystal, structu...|[cryst, structure...|           81|\n|wzj2glte|Synthesis of a no...|[synthesis, of, n...|[synthesis, novel...|[synthes, novel, ...|           90|\n|2sfqsfm1|Structure of coro...|[structure, of, c...|[structure, coron...|[structure, coron...|          109|\n|i0zym7iq|Discontinuous and...|[discontinuous, a...|[discontinuous, n...|[discontinu, nond...|          118|\n+--------+--------------------+--------------------+--------------------+--------------------+-------------+\nonly showing top 10 rows\n\n"
    }
   ],
   "source": [
    "# Stemming\n",
    "stemmer = LancasterStemmer()\n",
    "def stemming_udf(x):\n",
    "    newTokens = [stemmer.stem(w) for w in x]\n",
    "    return newTokens\n",
    "stemmingFunction = udf(lambda s: stemming_udf(s), ArrayType(StringType()))\n",
    "\n",
    "text = text.withColumn('StemmTokens', stemmingFunction(col('noStopTokens')))\n",
    "text = text.drop(col('numero_tokens'))\n",
    "text = text.withColumn('numero_tokens', udfArraySize(col('StemmTokens')))\n",
    "text.show(10)"
   ]
  },
  {
   "cell_type": "code",
   "execution_count": 13,
   "metadata": {},
   "outputs": [
    {
     "output_type": "stream",
     "name": "stdout",
     "text": "+--------+--------------------+--------------------+--------------------+--------------------+--------------------+-------------+\n|cord_uid|               texto|              tokens|        noStopTokens|         StemmTokens|          LemaTokens|numero_tokens|\n+--------+--------------------+--------------------+--------------------+--------------------+--------------------+-------------+\n|ug7v899j|Clinical features...|[clinical, featur...|[clinical, featur...|[clin, feat, cult...|[clin, feat, cult...|          139|\n|02tnwd4m|Nitric oxide: a p...|[nitric, oxide, p...|[nitric, oxide, p...|[nit, oxid, proin...|[nit, oxid, proin...|           84|\n|ejv2xln0|Surfactant protei...|[surfactant, prot...|[surfactant, prot...|[surfact, protein...|[surfact, protein...|          142|\n|2b73a28n|Role of endotheli...|[role, of, endoth...|[role, endothelin...|[rol, endothelin,...|[rol, endothelin,...|           44|\n|9785vg6d|Gene expression i...|[gene, expression...|[gene, expression...|[gen, express, ep...|[gen, express, ep...|           81|\n|zjufx4fo|Sequence requirem...|[sequence, requir...|[sequence, requir...|[sequ, requir, rn...|[sequ, requir, rn...|          122|\n|ymceytj3|Crystal structure...|[crystal, structu...|[crystal, structu...|[cryst, structure...|[cryst, structure...|           81|\n|wzj2glte|Synthesis of a no...|[synthesis, of, n...|[synthesis, novel...|[synthes, novel, ...|[synthes, novel, ...|           90|\n|2sfqsfm1|Structure of coro...|[structure, of, c...|[structure, coron...|[structure, coron...|[structure, coron...|          109|\n|i0zym7iq|Discontinuous and...|[discontinuous, a...|[discontinuous, n...|[discontinu, nond...|[discontinu, nond...|          118|\n+--------+--------------------+--------------------+--------------------+--------------------+--------------------+-------------+\nonly showing top 10 rows\n\n"
    }
   ],
   "source": [
    "# Lemma\n",
    "lematizer = WordNetLemmatizer()\n",
    "def lematizer_udf(x):\n",
    "    newTokens = [lematizer.lemmatize(w) for w in x]\n",
    "    return newTokens\n",
    "lematizerFunction = udf(lambda s: lematizer_udf(s), ArrayType(StringType()))\n",
    "\n",
    "text = text.withColumn('LemaTokens', lematizerFunction(col('StemmTokens')))\n",
    "text = text.drop(col('numero_tokens'))\n",
    "text = text.withColumn('numero_tokens', udfArraySize(col('LemaTokens')))\n",
    "text.show(10)"
   ]
  },
  {
   "cell_type": "code",
   "execution_count": 14,
   "metadata": {},
   "outputs": [],
   "source": [
    "# TF Vector\n",
    "cv = CountVectorizer(inputCol=\"LemaTokens\", outputCol=\"rawFeatures\", vocabSize = 1000)\n",
    "cvmodel = cv.fit(text)\n",
    "featurizedData = cvmodel.transform(text)"
   ]
  },
  {
   "cell_type": "code",
   "execution_count": 15,
   "metadata": {},
   "outputs": [],
   "source": [
    "# Vocabulary BoW\n",
    "vocab = cvmodel.vocabulary\n",
    "vocab_broadcast = sc.broadcast(vocab)\n",
    "print('BoW: ' + len(vocab))"
   ]
  },
  {
   "cell_type": "code",
   "execution_count": 22,
   "metadata": {},
   "outputs": [],
   "source": [
    "# IDF\n",
    "idf = IDF(inputCol=\"rawFeatures\", outputCol=\"features\")\n",
    "idfModel = idf.fit(featurizedData)\n",
    "rescaledData = idfModel.transform(featurizedData)"
   ]
  },
  {
   "cell_type": "code",
   "execution_count": 26,
   "metadata": {},
   "outputs": [],
   "source": [
    "# LDA\n",
    "lda = LDA(k=25, seed=123, optimizer=\"em\", featuresCol=\"features\")\n",
    "ldamodel = lda.fit(rescaledData)\n",
    "ldatopics = ldamodel.describeTopics()"
   ]
  },
  {
   "cell_type": "code",
   "execution_count": 28,
   "metadata": {},
   "outputs": [],
   "source": [
    "ldaResults = ldamodel.transform(rescaledData)"
   ]
  },
  {
   "cell_type": "code",
   "execution_count": 27,
   "metadata": {},
   "outputs": [
    {
     "output_type": "stream",
     "name": "stdout",
     "text": "2020-05-22 01:20:34.568225\n"
    }
   ],
   "source": [
    "import datetime\n",
    "print(datetime.datetime.now())"
   ]
  }
 ],
 "metadata": {
  "language_info": {
   "codemirror_mode": {
    "name": "ipython",
    "version": 3
   },
   "file_extension": ".py",
   "mimetype": "text/x-python",
   "name": "python",
   "nbconvert_exporter": "python",
   "pygments_lexer": "ipython3",
   "version": "3.7.6-final"
  },
  "orig_nbformat": 2,
  "kernelspec": {
   "name": "python3",
   "display_name": "Python 3"
  }
 },
 "nbformat": 4,
 "nbformat_minor": 2
}