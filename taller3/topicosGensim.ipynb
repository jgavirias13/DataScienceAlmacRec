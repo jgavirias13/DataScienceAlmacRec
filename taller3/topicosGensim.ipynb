{
 "cells": [
  {
   "cell_type": "markdown",
   "metadata": {},
   "source": [
    "# Taller 3\n",
    "\n",
    "**Autor:** Juan Pablo Gaviria\n",
    "\n",
    "## Deteccion de Topicos con genSim\n",
    "\n",
    "Se realizará la detección de Topicos con genSim y LDA"
   ]
  },
  {
   "cell_type": "code",
   "execution_count": 2,
   "metadata": {},
   "outputs": [],
   "source": [
    "import pandas as pd\n",
    "import numpy as np\n",
    "from gensim.corpora import Dictionary\n",
    "import snowballstemmer\n",
    "from nltk.corpus import stopwords\n",
    "from string import ascii_lowercase\n",
    "import itertools\n",
    "from collections import Counter\n",
    "import re\n",
    "import multiprocessing as mp\n",
    "import time\n",
    "from gensim.models.ldamulticore import LdaMulticore\n",
    "import pyLDAvis\n",
    "import gensim\n",
    "import nltk\n",
    "from pyLDAvis import gensim"
   ]
  },
  {
   "cell_type": "markdown",
   "metadata": {},
   "source": [
    "### Lectura de la informacion"
   ]
  },
  {
   "cell_type": "code",
   "execution_count": 3,
   "metadata": {},
   "outputs": [
    {
     "output_type": "execute_result",
     "data": {
      "text/plain": "        cord_uid                                       sha  \\\n0       ug7v899j  d1aafb70c066a2068b02786f8929fd9c900897fb   \n1       02tnwd4m  6b0567729c2143a66d737eb0a2f63f2dce2e5a7d   \n2       ejv2xln0  06ced00a5fc04215949aa72528f2eeaae1d58927   \n3       2b73a28n  348055649b6b8cf2b9a376498df9bf41f7123605   \n4       9785vg6d  5f48792a5fa08bed9f56016f4981ae2ca6031b32   \n...          ...                                       ...   \n128487  a11jyui1                                       NaN   \n128488  9bma9y0q  44959e4505dcc59575f4989de8abf3fcc7e48415   \n128489  50xhia4r  8922380f61b6fe160ab0550a674816f1852a843d   \n128490  97h1fz34  ea20a6b97f98ce4bdddfa6408da5ddf3dd06835e   \n128491  clmtwq4v  4c779b2a7682e10c421d6df6175226115a703997   \n\n                      source_x  \\\n0                          PMC   \n1                          PMC   \n2                          PMC   \n3                          PMC   \n4                          PMC   \n...                        ...   \n128487           Elsevier; PMC   \n128488            Medline; PMC   \n128489       Medline; PMC; WHO   \n128490            Medline; PMC   \n128491  Elsevier; Medline; PMC   \n\n                                                    title  \\\n0       Clinical features of culture-proven Mycoplasma...   \n1       Nitric oxide: a pro-inflammatory mediator in l...   \n2         Surfactant protein-D and pulmonary host defense   \n3                    Role of endothelin-1 in lung disease   \n4       Gene expression in epithelial cells in respons...   \n...                                                   ...   \n128487  Impact of BSE on the biotechnology industry — ...   \n128488  Evolving Gene Targets and Technology in Influe...   \n128489  How to train health personnel to protect thems...   \n128490             Epidemic spreading in complex networks   \n128491  The determinants of the 1999 and 2007 Chinese ...   \n\n                                  doi       pmcid   pubmed_id    license  \\\n0               10.1186/1471-2334-1-6    PMC35282  11472636.0      no-cc   \n1                        10.1186/rr14    PMC59543  11667967.0      no-cc   \n2                        10.1186/rr19    PMC59549  11667972.0      no-cc   \n3                        10.1186/rr44    PMC59574  11686871.0      no-cc   \n4                        10.1186/rr61    PMC59580  11686888.0      no-cc   \n...                               ...         ...         ...        ...   \n128487  10.1016/s0958-2118(04)00238-1  PMC7148827         NaN  els-covid   \n128488      10.1007/s40291-013-0040-9  PMC7100497  23686537.0      no-cc   \n128489       10.3352/jeehp.2020.17.10  PMC7162995  32150796.0      cc-by   \n128490      10.1007/s11467-008-0027-x  PMC7111544  32288753.0      no-cc   \n128491  10.1016/j.tourman.2009.10.003  PMC7127154  32287734.0      no-cc   \n\n                                                 abstract publish_time  \\\n0       OBJECTIVE: This retrospective chart review des...   2001-07-04   \n1       Inflammatory diseases of the respiratory tract...   2000-08-15   \n2       Surfactant protein-D (SP-D) participates in th...   2000-08-25   \n3       Endothelin-1 (ET-1) is a 21 amino acid peptide...   2001-02-22   \n4       Respiratory syncytial virus (RSV) and pneumoni...   2001-05-11   \n...                                                   ...          ...   \n128487  This feature briefly looks at filtration techn...   2004-10-31   \n128488  Influenza viruses cause recurring epidemic out...   2013-05-18   \n128489                                                NaN   2020-03-07   \n128490  The study of epidemic spreading in complex net...   2008-07-08   \n128491  This study examines the factors that lay behin...   2009-11-06   \n\n                                                  authors  \\\n0                     Madani, Tariq A; Al-Ghamdi, Aisha A   \n1       Vliet, Albert van der; Eiserich, Jason P; Cros...   \n2                                         Crouch, Erika C   \n3       Fagan, Karen A; McMurtry, Ivan F; Rodman, David M   \n4       Domachowske, Joseph B; Bonville, Cynthia A; Ro...   \n...                                                   ...   \n128487                                    Atkinson, Simon   \n128488               Malanoski, Anthony P.; Lin, Baochuan   \n128489                                           Huh, Sun   \n128490                           Zhou, Jie; Liu, Zong-hua   \n128491                    York, Qi Yan; Zhang, Hanqin Qiu   \n\n                        journal  mag_id who_covidence_id arxiv_id  \\\n0                BMC Infect Dis     NaN              NaN      NaN   \n1                    Respir Res     NaN              NaN      NaN   \n2                    Respir Res     NaN              NaN      NaN   \n3                    Respir Res     NaN              NaN      NaN   \n4                    Respir Res     NaN              NaN      NaN   \n...                         ...     ...              ...      ...   \n128487      Membrane Technology     NaN              NaN      NaN   \n128488           Mol Diagn Ther     NaN              NaN      NaN   \n128489  J Educ Eval Health Prof     NaN            #6263      NaN   \n128490         Front Phys China     NaN              NaN      NaN   \n128491               Tour Manag     NaN              NaN      NaN   \n\n                                           pdf_json_files  \\\n0       document_parses/pdf_json/d1aafb70c066a2068b027...   \n1       document_parses/pdf_json/6b0567729c2143a66d737...   \n2       document_parses/pdf_json/06ced00a5fc04215949aa...   \n3       document_parses/pdf_json/348055649b6b8cf2b9a37...   \n4       document_parses/pdf_json/5f48792a5fa08bed9f560...   \n...                                                   ...   \n128487                                                NaN   \n128488  document_parses/pdf_json/44959e4505dcc59575f49...   \n128489  document_parses/pdf_json/8922380f61b6fe160ab05...   \n128490  document_parses/pdf_json/ea20a6b97f98ce4bdddfa...   \n128491  document_parses/pdf_json/4c779b2a7682e10c421d6...   \n\n                                      pmc_json_files  \\\n0         document_parses/pmc_json/PMC35282.xml.json   \n1         document_parses/pmc_json/PMC59543.xml.json   \n2         document_parses/pmc_json/PMC59549.xml.json   \n3         document_parses/pmc_json/PMC59574.xml.json   \n4         document_parses/pmc_json/PMC59580.xml.json   \n...                                              ...   \n128487                                           NaN   \n128488  document_parses/pmc_json/PMC7100497.xml.json   \n128489  document_parses/pmc_json/PMC7162995.xml.json   \n128490                                           NaN   \n128491  document_parses/pmc_json/PMC7127154.xml.json   \n\n                                                      url        s2_id  \n0       https://www.ncbi.nlm.nih.gov/pmc/articles/PMC3...          NaN  \n1       https://www.ncbi.nlm.nih.gov/pmc/articles/PMC5...          NaN  \n2       https://www.ncbi.nlm.nih.gov/pmc/articles/PMC5...          NaN  \n3       https://www.ncbi.nlm.nih.gov/pmc/articles/PMC5...          NaN  \n4       https://www.ncbi.nlm.nih.gov/pmc/articles/PMC5...          NaN  \n...                                                   ...          ...  \n128487  https://www.sciencedirect.com/science/article/...  109580667.0  \n128488                                                NaN   17361009.0  \n128489                                                NaN  212650605.0  \n128490                                                NaN  121665618.0  \n128491  https://www.sciencedirect.com/science/article/...  154015971.0  \n\n[128492 rows x 19 columns]",
      "text/html": "<div>\n<style scoped>\n    .dataframe tbody tr th:only-of-type {\n        vertical-align: middle;\n    }\n\n    .dataframe tbody tr th {\n        vertical-align: top;\n    }\n\n    .dataframe thead th {\n        text-align: right;\n    }\n</style>\n<table border=\"1\" class=\"dataframe\">\n  <thead>\n    <tr style=\"text-align: right;\">\n      <th></th>\n      <th>cord_uid</th>\n      <th>sha</th>\n      <th>source_x</th>\n      <th>title</th>\n      <th>doi</th>\n      <th>pmcid</th>\n      <th>pubmed_id</th>\n      <th>license</th>\n      <th>abstract</th>\n      <th>publish_time</th>\n      <th>authors</th>\n      <th>journal</th>\n      <th>mag_id</th>\n      <th>who_covidence_id</th>\n      <th>arxiv_id</th>\n      <th>pdf_json_files</th>\n      <th>pmc_json_files</th>\n      <th>url</th>\n      <th>s2_id</th>\n    </tr>\n  </thead>\n  <tbody>\n    <tr>\n      <th>0</th>\n      <td>ug7v899j</td>\n      <td>d1aafb70c066a2068b02786f8929fd9c900897fb</td>\n      <td>PMC</td>\n      <td>Clinical features of culture-proven Mycoplasma...</td>\n      <td>10.1186/1471-2334-1-6</td>\n      <td>PMC35282</td>\n      <td>11472636.0</td>\n      <td>no-cc</td>\n      <td>OBJECTIVE: This retrospective chart review des...</td>\n      <td>2001-07-04</td>\n      <td>Madani, Tariq A; Al-Ghamdi, Aisha A</td>\n      <td>BMC Infect Dis</td>\n      <td>NaN</td>\n      <td>NaN</td>\n      <td>NaN</td>\n      <td>document_parses/pdf_json/d1aafb70c066a2068b027...</td>\n      <td>document_parses/pmc_json/PMC35282.xml.json</td>\n      <td>https://www.ncbi.nlm.nih.gov/pmc/articles/PMC3...</td>\n      <td>NaN</td>\n    </tr>\n    <tr>\n      <th>1</th>\n      <td>02tnwd4m</td>\n      <td>6b0567729c2143a66d737eb0a2f63f2dce2e5a7d</td>\n      <td>PMC</td>\n      <td>Nitric oxide: a pro-inflammatory mediator in l...</td>\n      <td>10.1186/rr14</td>\n      <td>PMC59543</td>\n      <td>11667967.0</td>\n      <td>no-cc</td>\n      <td>Inflammatory diseases of the respiratory tract...</td>\n      <td>2000-08-15</td>\n      <td>Vliet, Albert van der; Eiserich, Jason P; Cros...</td>\n      <td>Respir Res</td>\n      <td>NaN</td>\n      <td>NaN</td>\n      <td>NaN</td>\n      <td>document_parses/pdf_json/6b0567729c2143a66d737...</td>\n      <td>document_parses/pmc_json/PMC59543.xml.json</td>\n      <td>https://www.ncbi.nlm.nih.gov/pmc/articles/PMC5...</td>\n      <td>NaN</td>\n    </tr>\n    <tr>\n      <th>2</th>\n      <td>ejv2xln0</td>\n      <td>06ced00a5fc04215949aa72528f2eeaae1d58927</td>\n      <td>PMC</td>\n      <td>Surfactant protein-D and pulmonary host defense</td>\n      <td>10.1186/rr19</td>\n      <td>PMC59549</td>\n      <td>11667972.0</td>\n      <td>no-cc</td>\n      <td>Surfactant protein-D (SP-D) participates in th...</td>\n      <td>2000-08-25</td>\n      <td>Crouch, Erika C</td>\n      <td>Respir Res</td>\n      <td>NaN</td>\n      <td>NaN</td>\n      <td>NaN</td>\n      <td>document_parses/pdf_json/06ced00a5fc04215949aa...</td>\n      <td>document_parses/pmc_json/PMC59549.xml.json</td>\n      <td>https://www.ncbi.nlm.nih.gov/pmc/articles/PMC5...</td>\n      <td>NaN</td>\n    </tr>\n    <tr>\n      <th>3</th>\n      <td>2b73a28n</td>\n      <td>348055649b6b8cf2b9a376498df9bf41f7123605</td>\n      <td>PMC</td>\n      <td>Role of endothelin-1 in lung disease</td>\n      <td>10.1186/rr44</td>\n      <td>PMC59574</td>\n      <td>11686871.0</td>\n      <td>no-cc</td>\n      <td>Endothelin-1 (ET-1) is a 21 amino acid peptide...</td>\n      <td>2001-02-22</td>\n      <td>Fagan, Karen A; McMurtry, Ivan F; Rodman, David M</td>\n      <td>Respir Res</td>\n      <td>NaN</td>\n      <td>NaN</td>\n      <td>NaN</td>\n      <td>document_parses/pdf_json/348055649b6b8cf2b9a37...</td>\n      <td>document_parses/pmc_json/PMC59574.xml.json</td>\n      <td>https://www.ncbi.nlm.nih.gov/pmc/articles/PMC5...</td>\n      <td>NaN</td>\n    </tr>\n    <tr>\n      <th>4</th>\n      <td>9785vg6d</td>\n      <td>5f48792a5fa08bed9f56016f4981ae2ca6031b32</td>\n      <td>PMC</td>\n      <td>Gene expression in epithelial cells in respons...</td>\n      <td>10.1186/rr61</td>\n      <td>PMC59580</td>\n      <td>11686888.0</td>\n      <td>no-cc</td>\n      <td>Respiratory syncytial virus (RSV) and pneumoni...</td>\n      <td>2001-05-11</td>\n      <td>Domachowske, Joseph B; Bonville, Cynthia A; Ro...</td>\n      <td>Respir Res</td>\n      <td>NaN</td>\n      <td>NaN</td>\n      <td>NaN</td>\n      <td>document_parses/pdf_json/5f48792a5fa08bed9f560...</td>\n      <td>document_parses/pmc_json/PMC59580.xml.json</td>\n      <td>https://www.ncbi.nlm.nih.gov/pmc/articles/PMC5...</td>\n      <td>NaN</td>\n    </tr>\n    <tr>\n      <th>...</th>\n      <td>...</td>\n      <td>...</td>\n      <td>...</td>\n      <td>...</td>\n      <td>...</td>\n      <td>...</td>\n      <td>...</td>\n      <td>...</td>\n      <td>...</td>\n      <td>...</td>\n      <td>...</td>\n      <td>...</td>\n      <td>...</td>\n      <td>...</td>\n      <td>...</td>\n      <td>...</td>\n      <td>...</td>\n      <td>...</td>\n      <td>...</td>\n    </tr>\n    <tr>\n      <th>128487</th>\n      <td>a11jyui1</td>\n      <td>NaN</td>\n      <td>Elsevier; PMC</td>\n      <td>Impact of BSE on the biotechnology industry — ...</td>\n      <td>10.1016/s0958-2118(04)00238-1</td>\n      <td>PMC7148827</td>\n      <td>NaN</td>\n      <td>els-covid</td>\n      <td>This feature briefly looks at filtration techn...</td>\n      <td>2004-10-31</td>\n      <td>Atkinson, Simon</td>\n      <td>Membrane Technology</td>\n      <td>NaN</td>\n      <td>NaN</td>\n      <td>NaN</td>\n      <td>NaN</td>\n      <td>NaN</td>\n      <td>https://www.sciencedirect.com/science/article/...</td>\n      <td>109580667.0</td>\n    </tr>\n    <tr>\n      <th>128488</th>\n      <td>9bma9y0q</td>\n      <td>44959e4505dcc59575f4989de8abf3fcc7e48415</td>\n      <td>Medline; PMC</td>\n      <td>Evolving Gene Targets and Technology in Influe...</td>\n      <td>10.1007/s40291-013-0040-9</td>\n      <td>PMC7100497</td>\n      <td>23686537.0</td>\n      <td>no-cc</td>\n      <td>Influenza viruses cause recurring epidemic out...</td>\n      <td>2013-05-18</td>\n      <td>Malanoski, Anthony P.; Lin, Baochuan</td>\n      <td>Mol Diagn Ther</td>\n      <td>NaN</td>\n      <td>NaN</td>\n      <td>NaN</td>\n      <td>document_parses/pdf_json/44959e4505dcc59575f49...</td>\n      <td>document_parses/pmc_json/PMC7100497.xml.json</td>\n      <td>NaN</td>\n      <td>17361009.0</td>\n    </tr>\n    <tr>\n      <th>128489</th>\n      <td>50xhia4r</td>\n      <td>8922380f61b6fe160ab0550a674816f1852a843d</td>\n      <td>Medline; PMC; WHO</td>\n      <td>How to train health personnel to protect thems...</td>\n      <td>10.3352/jeehp.2020.17.10</td>\n      <td>PMC7162995</td>\n      <td>32150796.0</td>\n      <td>cc-by</td>\n      <td>NaN</td>\n      <td>2020-03-07</td>\n      <td>Huh, Sun</td>\n      <td>J Educ Eval Health Prof</td>\n      <td>NaN</td>\n      <td>#6263</td>\n      <td>NaN</td>\n      <td>document_parses/pdf_json/8922380f61b6fe160ab05...</td>\n      <td>document_parses/pmc_json/PMC7162995.xml.json</td>\n      <td>NaN</td>\n      <td>212650605.0</td>\n    </tr>\n    <tr>\n      <th>128490</th>\n      <td>97h1fz34</td>\n      <td>ea20a6b97f98ce4bdddfa6408da5ddf3dd06835e</td>\n      <td>Medline; PMC</td>\n      <td>Epidemic spreading in complex networks</td>\n      <td>10.1007/s11467-008-0027-x</td>\n      <td>PMC7111544</td>\n      <td>32288753.0</td>\n      <td>no-cc</td>\n      <td>The study of epidemic spreading in complex net...</td>\n      <td>2008-07-08</td>\n      <td>Zhou, Jie; Liu, Zong-hua</td>\n      <td>Front Phys China</td>\n      <td>NaN</td>\n      <td>NaN</td>\n      <td>NaN</td>\n      <td>document_parses/pdf_json/ea20a6b97f98ce4bdddfa...</td>\n      <td>NaN</td>\n      <td>NaN</td>\n      <td>121665618.0</td>\n    </tr>\n    <tr>\n      <th>128491</th>\n      <td>clmtwq4v</td>\n      <td>4c779b2a7682e10c421d6df6175226115a703997</td>\n      <td>Elsevier; Medline; PMC</td>\n      <td>The determinants of the 1999 and 2007 Chinese ...</td>\n      <td>10.1016/j.tourman.2009.10.003</td>\n      <td>PMC7127154</td>\n      <td>32287734.0</td>\n      <td>no-cc</td>\n      <td>This study examines the factors that lay behin...</td>\n      <td>2009-11-06</td>\n      <td>York, Qi Yan; Zhang, Hanqin Qiu</td>\n      <td>Tour Manag</td>\n      <td>NaN</td>\n      <td>NaN</td>\n      <td>NaN</td>\n      <td>document_parses/pdf_json/4c779b2a7682e10c421d6...</td>\n      <td>document_parses/pmc_json/PMC7127154.xml.json</td>\n      <td>https://www.sciencedirect.com/science/article/...</td>\n      <td>154015971.0</td>\n    </tr>\n  </tbody>\n</table>\n<p>128492 rows × 19 columns</p>\n</div>"
     },
     "metadata": {},
     "execution_count": 3
    }
   ],
   "source": [
    "originalData = pd.read_csv('/home/jgaviria/Workspace/DataScience/datasets/metadata.csv')\n",
    "originalData"
   ]
  },
  {
   "cell_type": "markdown",
   "metadata": {},
   "source": [
    "### Preparacion de la informacion"
   ]
  },
  {
   "cell_type": "code",
   "execution_count": 4,
   "metadata": {},
   "outputs": [
    {
     "output_type": "execute_result",
     "data": {
      "text/plain": "        cord_uid                source_x  \\\n0       ug7v899j                     PMC   \n1       02tnwd4m                     PMC   \n2       ejv2xln0                     PMC   \n3       2b73a28n                     PMC   \n4       9785vg6d                     PMC   \n...          ...                     ...   \n128487  a11jyui1           Elsevier; PMC   \n128488  9bma9y0q            Medline; PMC   \n128489  50xhia4r       Medline; PMC; WHO   \n128490  97h1fz34            Medline; PMC   \n128491  clmtwq4v  Elsevier; Medline; PMC   \n\n                                                    title  \\\n0       Clinical features of culture-proven Mycoplasma...   \n1       Nitric oxide: a pro-inflammatory mediator in l...   \n2         Surfactant protein-D and pulmonary host defense   \n3                    Role of endothelin-1 in lung disease   \n4       Gene expression in epithelial cells in respons...   \n...                                                   ...   \n128487  Impact of BSE on the biotechnology industry — ...   \n128488  Evolving Gene Targets and Technology in Influe...   \n128489  How to train health personnel to protect thems...   \n128490             Epidemic spreading in complex networks   \n128491  The determinants of the 1999 and 2007 Chinese ...   \n\n                                                 abstract publish_time  \\\n0       OBJECTIVE: This retrospective chart review des...   2001-07-04   \n1       Inflammatory diseases of the respiratory tract...   2000-08-15   \n2       Surfactant protein-D (SP-D) participates in th...   2000-08-25   \n3       Endothelin-1 (ET-1) is a 21 amino acid peptide...   2001-02-22   \n4       Respiratory syncytial virus (RSV) and pneumoni...   2001-05-11   \n...                                                   ...          ...   \n128487  This feature briefly looks at filtration techn...   2004-10-31   \n128488  Influenza viruses cause recurring epidemic out...   2013-05-18   \n128489                                                NaN   2020-03-07   \n128490  The study of epidemic spreading in complex net...   2008-07-08   \n128491  This study examines the factors that lay behin...   2009-11-06   \n\n                                                  authors  \\\n0                     Madani, Tariq A; Al-Ghamdi, Aisha A   \n1       Vliet, Albert van der; Eiserich, Jason P; Cros...   \n2                                         Crouch, Erika C   \n3       Fagan, Karen A; McMurtry, Ivan F; Rodman, David M   \n4       Domachowske, Joseph B; Bonville, Cynthia A; Ro...   \n...                                                   ...   \n128487                                    Atkinson, Simon   \n128488               Malanoski, Anthony P.; Lin, Baochuan   \n128489                                           Huh, Sun   \n128490                           Zhou, Jie; Liu, Zong-hua   \n128491                    York, Qi Yan; Zhang, Hanqin Qiu   \n\n                        journal  \n0                BMC Infect Dis  \n1                    Respir Res  \n2                    Respir Res  \n3                    Respir Res  \n4                    Respir Res  \n...                         ...  \n128487      Membrane Technology  \n128488           Mol Diagn Ther  \n128489  J Educ Eval Health Prof  \n128490         Front Phys China  \n128491               Tour Manag  \n\n[128492 rows x 7 columns]",
      "text/html": "<div>\n<style scoped>\n    .dataframe tbody tr th:only-of-type {\n        vertical-align: middle;\n    }\n\n    .dataframe tbody tr th {\n        vertical-align: top;\n    }\n\n    .dataframe thead th {\n        text-align: right;\n    }\n</style>\n<table border=\"1\" class=\"dataframe\">\n  <thead>\n    <tr style=\"text-align: right;\">\n      <th></th>\n      <th>cord_uid</th>\n      <th>source_x</th>\n      <th>title</th>\n      <th>abstract</th>\n      <th>publish_time</th>\n      <th>authors</th>\n      <th>journal</th>\n    </tr>\n  </thead>\n  <tbody>\n    <tr>\n      <th>0</th>\n      <td>ug7v899j</td>\n      <td>PMC</td>\n      <td>Clinical features of culture-proven Mycoplasma...</td>\n      <td>OBJECTIVE: This retrospective chart review des...</td>\n      <td>2001-07-04</td>\n      <td>Madani, Tariq A; Al-Ghamdi, Aisha A</td>\n      <td>BMC Infect Dis</td>\n    </tr>\n    <tr>\n      <th>1</th>\n      <td>02tnwd4m</td>\n      <td>PMC</td>\n      <td>Nitric oxide: a pro-inflammatory mediator in l...</td>\n      <td>Inflammatory diseases of the respiratory tract...</td>\n      <td>2000-08-15</td>\n      <td>Vliet, Albert van der; Eiserich, Jason P; Cros...</td>\n      <td>Respir Res</td>\n    </tr>\n    <tr>\n      <th>2</th>\n      <td>ejv2xln0</td>\n      <td>PMC</td>\n      <td>Surfactant protein-D and pulmonary host defense</td>\n      <td>Surfactant protein-D (SP-D) participates in th...</td>\n      <td>2000-08-25</td>\n      <td>Crouch, Erika C</td>\n      <td>Respir Res</td>\n    </tr>\n    <tr>\n      <th>3</th>\n      <td>2b73a28n</td>\n      <td>PMC</td>\n      <td>Role of endothelin-1 in lung disease</td>\n      <td>Endothelin-1 (ET-1) is a 21 amino acid peptide...</td>\n      <td>2001-02-22</td>\n      <td>Fagan, Karen A; McMurtry, Ivan F; Rodman, David M</td>\n      <td>Respir Res</td>\n    </tr>\n    <tr>\n      <th>4</th>\n      <td>9785vg6d</td>\n      <td>PMC</td>\n      <td>Gene expression in epithelial cells in respons...</td>\n      <td>Respiratory syncytial virus (RSV) and pneumoni...</td>\n      <td>2001-05-11</td>\n      <td>Domachowske, Joseph B; Bonville, Cynthia A; Ro...</td>\n      <td>Respir Res</td>\n    </tr>\n    <tr>\n      <th>...</th>\n      <td>...</td>\n      <td>...</td>\n      <td>...</td>\n      <td>...</td>\n      <td>...</td>\n      <td>...</td>\n      <td>...</td>\n    </tr>\n    <tr>\n      <th>128487</th>\n      <td>a11jyui1</td>\n      <td>Elsevier; PMC</td>\n      <td>Impact of BSE on the biotechnology industry — ...</td>\n      <td>This feature briefly looks at filtration techn...</td>\n      <td>2004-10-31</td>\n      <td>Atkinson, Simon</td>\n      <td>Membrane Technology</td>\n    </tr>\n    <tr>\n      <th>128488</th>\n      <td>9bma9y0q</td>\n      <td>Medline; PMC</td>\n      <td>Evolving Gene Targets and Technology in Influe...</td>\n      <td>Influenza viruses cause recurring epidemic out...</td>\n      <td>2013-05-18</td>\n      <td>Malanoski, Anthony P.; Lin, Baochuan</td>\n      <td>Mol Diagn Ther</td>\n    </tr>\n    <tr>\n      <th>128489</th>\n      <td>50xhia4r</td>\n      <td>Medline; PMC; WHO</td>\n      <td>How to train health personnel to protect thems...</td>\n      <td>NaN</td>\n      <td>2020-03-07</td>\n      <td>Huh, Sun</td>\n      <td>J Educ Eval Health Prof</td>\n    </tr>\n    <tr>\n      <th>128490</th>\n      <td>97h1fz34</td>\n      <td>Medline; PMC</td>\n      <td>Epidemic spreading in complex networks</td>\n      <td>The study of epidemic spreading in complex net...</td>\n      <td>2008-07-08</td>\n      <td>Zhou, Jie; Liu, Zong-hua</td>\n      <td>Front Phys China</td>\n    </tr>\n    <tr>\n      <th>128491</th>\n      <td>clmtwq4v</td>\n      <td>Elsevier; Medline; PMC</td>\n      <td>The determinants of the 1999 and 2007 Chinese ...</td>\n      <td>This study examines the factors that lay behin...</td>\n      <td>2009-11-06</td>\n      <td>York, Qi Yan; Zhang, Hanqin Qiu</td>\n      <td>Tour Manag</td>\n    </tr>\n  </tbody>\n</table>\n<p>128492 rows × 7 columns</p>\n</div>"
     },
     "metadata": {},
     "execution_count": 4
    }
   ],
   "source": [
    "data = originalData.drop(['sha','doi','pmcid','pubmed_id','license','mag_id','who_covidence_id','arxiv_id','pdf_json_files','pmc_json_files','url','s2_id'], axis=1)\n",
    "data"
   ]
  },
  {
   "cell_type": "code",
   "execution_count": 5,
   "metadata": {},
   "outputs": [
    {
     "output_type": "execute_result",
     "data": {
      "text/plain": "              id                                              texto\n0       ug7v899j  Clinical features of culture-proven Mycoplasma...\n1       02tnwd4m  Nitric oxide: a pro-inflammatory mediator in l...\n2       ejv2xln0  Surfactant protein-D and pulmonary host defens...\n3       2b73a28n  Role of endothelin-1 in lung disease Endotheli...\n4       9785vg6d  Gene expression in epithelial cells in respons...\n...          ...                                                ...\n128487  a11jyui1  Impact of BSE on the biotechnology industry — ...\n128488  9bma9y0q  Evolving Gene Targets and Technology in Influe...\n128489  50xhia4r                                                NaN\n128490  97h1fz34  Epidemic spreading in complex networks The stu...\n128491  clmtwq4v  The determinants of the 1999 and 2007 Chinese ...\n\n[128492 rows x 2 columns]",
      "text/html": "<div>\n<style scoped>\n    .dataframe tbody tr th:only-of-type {\n        vertical-align: middle;\n    }\n\n    .dataframe tbody tr th {\n        vertical-align: top;\n    }\n\n    .dataframe thead th {\n        text-align: right;\n    }\n</style>\n<table border=\"1\" class=\"dataframe\">\n  <thead>\n    <tr style=\"text-align: right;\">\n      <th></th>\n      <th>id</th>\n      <th>texto</th>\n    </tr>\n  </thead>\n  <tbody>\n    <tr>\n      <th>0</th>\n      <td>ug7v899j</td>\n      <td>Clinical features of culture-proven Mycoplasma...</td>\n    </tr>\n    <tr>\n      <th>1</th>\n      <td>02tnwd4m</td>\n      <td>Nitric oxide: a pro-inflammatory mediator in l...</td>\n    </tr>\n    <tr>\n      <th>2</th>\n      <td>ejv2xln0</td>\n      <td>Surfactant protein-D and pulmonary host defens...</td>\n    </tr>\n    <tr>\n      <th>3</th>\n      <td>2b73a28n</td>\n      <td>Role of endothelin-1 in lung disease Endotheli...</td>\n    </tr>\n    <tr>\n      <th>4</th>\n      <td>9785vg6d</td>\n      <td>Gene expression in epithelial cells in respons...</td>\n    </tr>\n    <tr>\n      <th>...</th>\n      <td>...</td>\n      <td>...</td>\n    </tr>\n    <tr>\n      <th>128487</th>\n      <td>a11jyui1</td>\n      <td>Impact of BSE on the biotechnology industry — ...</td>\n    </tr>\n    <tr>\n      <th>128488</th>\n      <td>9bma9y0q</td>\n      <td>Evolving Gene Targets and Technology in Influe...</td>\n    </tr>\n    <tr>\n      <th>128489</th>\n      <td>50xhia4r</td>\n      <td>NaN</td>\n    </tr>\n    <tr>\n      <th>128490</th>\n      <td>97h1fz34</td>\n      <td>Epidemic spreading in complex networks The stu...</td>\n    </tr>\n    <tr>\n      <th>128491</th>\n      <td>clmtwq4v</td>\n      <td>The determinants of the 1999 and 2007 Chinese ...</td>\n    </tr>\n  </tbody>\n</table>\n<p>128492 rows × 2 columns</p>\n</div>"
     },
     "metadata": {},
     "execution_count": 5
    }
   ],
   "source": [
    "# Se crea nuevo dataframe unicamente con el id y el texto a evaluar\n",
    "texto = pd.DataFrame({'id':data.cord_uid, 'texto':data.title+\" \"+data.abstract})\n",
    "texto"
   ]
  },
  {
   "cell_type": "code",
   "execution_count": 6,
   "metadata": {},
   "outputs": [
    {
     "output_type": "execute_result",
     "data": {
      "text/plain": "              id                                              texto\n0       ug7v899j  Clinical features of culture-proven Mycoplasma...\n1       02tnwd4m  Nitric oxide: a pro-inflammatory mediator in l...\n2       ejv2xln0  Surfactant protein-D and pulmonary host defens...\n3       2b73a28n  Role of endothelin-1 in lung disease Endotheli...\n4       9785vg6d  Gene expression in epithelial cells in respons...\n...          ...                                                ...\n128486  jvl63652  Dual Analysis of the Murine Cytomegalovirus an...\n128487  a11jyui1  Impact of BSE on the biotechnology industry — ...\n128488  9bma9y0q  Evolving Gene Targets and Technology in Influe...\n128490  97h1fz34  Epidemic spreading in complex networks The stu...\n128491  clmtwq4v  The determinants of the 1999 and 2007 Chinese ...\n\n[101606 rows x 2 columns]",
      "text/html": "<div>\n<style scoped>\n    .dataframe tbody tr th:only-of-type {\n        vertical-align: middle;\n    }\n\n    .dataframe tbody tr th {\n        vertical-align: top;\n    }\n\n    .dataframe thead th {\n        text-align: right;\n    }\n</style>\n<table border=\"1\" class=\"dataframe\">\n  <thead>\n    <tr style=\"text-align: right;\">\n      <th></th>\n      <th>id</th>\n      <th>texto</th>\n    </tr>\n  </thead>\n  <tbody>\n    <tr>\n      <th>0</th>\n      <td>ug7v899j</td>\n      <td>Clinical features of culture-proven Mycoplasma...</td>\n    </tr>\n    <tr>\n      <th>1</th>\n      <td>02tnwd4m</td>\n      <td>Nitric oxide: a pro-inflammatory mediator in l...</td>\n    </tr>\n    <tr>\n      <th>2</th>\n      <td>ejv2xln0</td>\n      <td>Surfactant protein-D and pulmonary host defens...</td>\n    </tr>\n    <tr>\n      <th>3</th>\n      <td>2b73a28n</td>\n      <td>Role of endothelin-1 in lung disease Endotheli...</td>\n    </tr>\n    <tr>\n      <th>4</th>\n      <td>9785vg6d</td>\n      <td>Gene expression in epithelial cells in respons...</td>\n    </tr>\n    <tr>\n      <th>...</th>\n      <td>...</td>\n      <td>...</td>\n    </tr>\n    <tr>\n      <th>128486</th>\n      <td>jvl63652</td>\n      <td>Dual Analysis of the Murine Cytomegalovirus an...</td>\n    </tr>\n    <tr>\n      <th>128487</th>\n      <td>a11jyui1</td>\n      <td>Impact of BSE on the biotechnology industry — ...</td>\n    </tr>\n    <tr>\n      <th>128488</th>\n      <td>9bma9y0q</td>\n      <td>Evolving Gene Targets and Technology in Influe...</td>\n    </tr>\n    <tr>\n      <th>128490</th>\n      <td>97h1fz34</td>\n      <td>Epidemic spreading in complex networks The stu...</td>\n    </tr>\n    <tr>\n      <th>128491</th>\n      <td>clmtwq4v</td>\n      <td>The determinants of the 1999 and 2007 Chinese ...</td>\n    </tr>\n  </tbody>\n</table>\n<p>101606 rows × 2 columns</p>\n</div>"
     },
     "metadata": {},
     "execution_count": 6
    }
   ],
   "source": [
    "# Se eliminan filas que no tengan ni titulo ni abstract\n",
    "texto = texto.dropna()\n",
    "texto"
   ]
  },
  {
   "cell_type": "markdown",
   "metadata": {},
   "source": [
    "### Preparacion del texto"
   ]
  },
  {
   "cell_type": "code",
   "execution_count": 7,
   "metadata": {},
   "outputs": [],
   "source": [
    "# Preparacion stopwords\n",
    "# Se crea un listado de stopwords con nltk y se expande a su raiz con stem\n",
    "stemmer = snowballstemmer.EnglishStemmer()\n",
    "stop = stopwords.words('english')\n",
    "stop.extend(['may','also','zero','one','two','three','four','five','six','seven','eight','nine','ten','across','among','beside','however','yet','within']+list(ascii_lowercase))\n",
    "stopList = stemmer.stemWords(stop)\n",
    "stopList = set(stopList)\n",
    "stop = set(sorted(stop + list(stopList)))"
   ]
  },
  {
   "cell_type": "code",
   "execution_count": 8,
   "metadata": {},
   "outputs": [
    {
     "output_type": "stream",
     "name": "stderr",
     "text": "<>:2: DeprecationWarning: invalid escape sequence \\[\n<>:2: DeprecationWarning: invalid escape sequence \\[\n<>:2: DeprecationWarning: invalid escape sequence \\[\n<ipython-input-8-61b0bb2beb8c>:2: DeprecationWarning: invalid escape sequence \\[\n  texto['texto'].replace('[!\"#%\\'()*+,-./:;<=>?@\\[\\]^_`{|}~1234567890’”“′‘\\\\\\]',' ',inplace=True,regex=True)\n"
    }
   ],
   "source": [
    "# Limpieza de caracteres especiales\n",
    "texto['texto'].replace('[!\"#%\\'()*+,-./:;<=>?@\\[\\]^_`{|}~1234567890’”“′‘\\\\\\]',' ',inplace=True,regex=True)"
   ]
  },
  {
   "cell_type": "code",
   "execution_count": 9,
   "metadata": {},
   "outputs": [
    {
     "output_type": "execute_result",
     "data": {
      "text/plain": "              id                                              texto  \\\n0       ug7v899j  Clinical features of culture proven Mycoplasma...   \n1       02tnwd4m  Nitric oxide  a pro inflammatory mediator in l...   \n2       ejv2xln0  Surfactant protein D and pulmonary host defens...   \n3       2b73a28n  Role of endothelin   in lung disease Endotheli...   \n4       9785vg6d  Gene expression in epithelial cells in respons...   \n...          ...                                                ...   \n128486  jvl63652  Dual Analysis of the Murine Cytomegalovirus an...   \n128487  a11jyui1  Impact of BSE on the biotechnology industry — ...   \n128488  9bma9y0q  Evolving Gene Targets and Technology in Influe...   \n128490  97h1fz34  Epidemic spreading in complex networks The stu...   \n128491  clmtwq4v  The determinants of the      and      Chinese ...   \n\n                                             stemmed_text  \n0       clinical features culture proven mycoplasma pn...  \n1       nitric oxide pro inflammatory mediator lung di...  \n2       surfactant protein pulmonary host defense surf...  \n3       role endothelin lung disease endothelin et ami...  \n4       gene expression epithelial cells response pneu...  \n...                                                   ...  \n128486  dual analysis murine cytomegalovirus host cell...  \n128487  impact bse biotechnology industry — detection ...  \n128488  evolving gene targets technology influenza det...  \n128490  epidemic spreading complex networks study epid...  \n128491  determinants chinese golden holiday system con...  \n\n[101606 rows x 3 columns]",
      "text/html": "<div>\n<style scoped>\n    .dataframe tbody tr th:only-of-type {\n        vertical-align: middle;\n    }\n\n    .dataframe tbody tr th {\n        vertical-align: top;\n    }\n\n    .dataframe thead th {\n        text-align: right;\n    }\n</style>\n<table border=\"1\" class=\"dataframe\">\n  <thead>\n    <tr style=\"text-align: right;\">\n      <th></th>\n      <th>id</th>\n      <th>texto</th>\n      <th>stemmed_text</th>\n    </tr>\n  </thead>\n  <tbody>\n    <tr>\n      <th>0</th>\n      <td>ug7v899j</td>\n      <td>Clinical features of culture proven Mycoplasma...</td>\n      <td>clinical features culture proven mycoplasma pn...</td>\n    </tr>\n    <tr>\n      <th>1</th>\n      <td>02tnwd4m</td>\n      <td>Nitric oxide  a pro inflammatory mediator in l...</td>\n      <td>nitric oxide pro inflammatory mediator lung di...</td>\n    </tr>\n    <tr>\n      <th>2</th>\n      <td>ejv2xln0</td>\n      <td>Surfactant protein D and pulmonary host defens...</td>\n      <td>surfactant protein pulmonary host defense surf...</td>\n    </tr>\n    <tr>\n      <th>3</th>\n      <td>2b73a28n</td>\n      <td>Role of endothelin   in lung disease Endotheli...</td>\n      <td>role endothelin lung disease endothelin et ami...</td>\n    </tr>\n    <tr>\n      <th>4</th>\n      <td>9785vg6d</td>\n      <td>Gene expression in epithelial cells in respons...</td>\n      <td>gene expression epithelial cells response pneu...</td>\n    </tr>\n    <tr>\n      <th>...</th>\n      <td>...</td>\n      <td>...</td>\n      <td>...</td>\n    </tr>\n    <tr>\n      <th>128486</th>\n      <td>jvl63652</td>\n      <td>Dual Analysis of the Murine Cytomegalovirus an...</td>\n      <td>dual analysis murine cytomegalovirus host cell...</td>\n    </tr>\n    <tr>\n      <th>128487</th>\n      <td>a11jyui1</td>\n      <td>Impact of BSE on the biotechnology industry — ...</td>\n      <td>impact bse biotechnology industry — detection ...</td>\n    </tr>\n    <tr>\n      <th>128488</th>\n      <td>9bma9y0q</td>\n      <td>Evolving Gene Targets and Technology in Influe...</td>\n      <td>evolving gene targets technology influenza det...</td>\n    </tr>\n    <tr>\n      <th>128490</th>\n      <td>97h1fz34</td>\n      <td>Epidemic spreading in complex networks The stu...</td>\n      <td>epidemic spreading complex networks study epid...</td>\n    </tr>\n    <tr>\n      <th>128491</th>\n      <td>clmtwq4v</td>\n      <td>The determinants of the      and      Chinese ...</td>\n      <td>determinants chinese golden holiday system con...</td>\n    </tr>\n  </tbody>\n</table>\n<p>101606 rows × 3 columns</p>\n</div>"
     },
     "metadata": {},
     "execution_count": 9
    }
   ],
   "source": [
    "# Tokenizaicion, Stemming y remocion de stopwords\n",
    "wordlist = filter(None, \" \".join(list(set(list(itertools.chain(*texto['texto'].str.split(' ')))))).split(\" \"))\n",
    "texto['stemmed_text'] = [' '.join(filter(None,filter(lambda word: word not in stop, line))) for line in texto['texto'].str.lower().str.split(' ')]\n",
    "texto\n",
    "\n"
   ]
  },
  {
   "cell_type": "code",
   "execution_count": 10,
   "metadata": {},
   "outputs": [
    {
     "output_type": "execute_result",
     "data": {
      "text/plain": "              id                                              texto  \\\n0       ug7v899j  Clinical features of culture proven Mycoplasma...   \n1       02tnwd4m  Nitric oxide  a pro inflammatory mediator in l...   \n2       ejv2xln0  Surfactant protein D and pulmonary host defens...   \n3       2b73a28n  Role of endothelin   in lung disease Endotheli...   \n4       9785vg6d  Gene expression in epithelial cells in respons...   \n...          ...                                                ...   \n128486  jvl63652  Dual Analysis of the Murine Cytomegalovirus an...   \n128487  a11jyui1  Impact of BSE on the biotechnology industry — ...   \n128488  9bma9y0q  Evolving Gene Targets and Technology in Influe...   \n128490  97h1fz34  Epidemic spreading in complex networks The stu...   \n128491  clmtwq4v  The determinants of the      and      Chinese ...   \n\n                                             stemmed_text  \n0       clinical features culture proven mycoplasma pn...  \n1       nitric oxide pro inflammatory mediator lung di...  \n2       surfactant protein pulmonary host defense surf...  \n3       role endothelin lung disease endothelin et ami...  \n4       gene expression epithelial cells response pneu...  \n...                                                   ...  \n128486  dual analysis murine cytomegalovirus host cell...  \n128487  impact bse biotechnology industry — detection ...  \n128488  evolving gene targets technology influenza det...  \n128490  epidemic spreading complex networks study epid...  \n128491  determinants chinese golden holiday system con...  \n\n[101606 rows x 3 columns]",
      "text/html": "<div>\n<style scoped>\n    .dataframe tbody tr th:only-of-type {\n        vertical-align: middle;\n    }\n\n    .dataframe tbody tr th {\n        vertical-align: top;\n    }\n\n    .dataframe thead th {\n        text-align: right;\n    }\n</style>\n<table border=\"1\" class=\"dataframe\">\n  <thead>\n    <tr style=\"text-align: right;\">\n      <th></th>\n      <th>id</th>\n      <th>texto</th>\n      <th>stemmed_text</th>\n    </tr>\n  </thead>\n  <tbody>\n    <tr>\n      <th>0</th>\n      <td>ug7v899j</td>\n      <td>Clinical features of culture proven Mycoplasma...</td>\n      <td>clinical features culture proven mycoplasma pn...</td>\n    </tr>\n    <tr>\n      <th>1</th>\n      <td>02tnwd4m</td>\n      <td>Nitric oxide  a pro inflammatory mediator in l...</td>\n      <td>nitric oxide pro inflammatory mediator lung di...</td>\n    </tr>\n    <tr>\n      <th>2</th>\n      <td>ejv2xln0</td>\n      <td>Surfactant protein D and pulmonary host defens...</td>\n      <td>surfactant protein pulmonary host defense surf...</td>\n    </tr>\n    <tr>\n      <th>3</th>\n      <td>2b73a28n</td>\n      <td>Role of endothelin   in lung disease Endotheli...</td>\n      <td>role endothelin lung disease endothelin et ami...</td>\n    </tr>\n    <tr>\n      <th>4</th>\n      <td>9785vg6d</td>\n      <td>Gene expression in epithelial cells in respons...</td>\n      <td>gene expression epithelial cells response pneu...</td>\n    </tr>\n    <tr>\n      <th>...</th>\n      <td>...</td>\n      <td>...</td>\n      <td>...</td>\n    </tr>\n    <tr>\n      <th>128486</th>\n      <td>jvl63652</td>\n      <td>Dual Analysis of the Murine Cytomegalovirus an...</td>\n      <td>dual analysis murine cytomegalovirus host cell...</td>\n    </tr>\n    <tr>\n      <th>128487</th>\n      <td>a11jyui1</td>\n      <td>Impact of BSE on the biotechnology industry — ...</td>\n      <td>impact bse biotechnology industry — detection ...</td>\n    </tr>\n    <tr>\n      <th>128488</th>\n      <td>9bma9y0q</td>\n      <td>Evolving Gene Targets and Technology in Influe...</td>\n      <td>evolving gene targets technology influenza det...</td>\n    </tr>\n    <tr>\n      <th>128490</th>\n      <td>97h1fz34</td>\n      <td>Epidemic spreading in complex networks The stu...</td>\n      <td>epidemic spreading complex networks study epid...</td>\n    </tr>\n    <tr>\n      <th>128491</th>\n      <td>clmtwq4v</td>\n      <td>The determinants of the      and      Chinese ...</td>\n      <td>determinants chinese golden holiday system con...</td>\n    </tr>\n  </tbody>\n</table>\n<p>101606 rows × 3 columns</p>\n</div>"
     },
     "metadata": {},
     "execution_count": 10
    }
   ],
   "source": [
    "# Se eliminan las palabras que no aparezcan por lo menos 5 veces en todos los documentos\n",
    "cuenta_minima = 5\n",
    "str_frequencies = pd.DataFrame(list(Counter(filter(None,list(itertools.chain(*texto['stemmed_text'].str.split(' '))))).items()),columns=['word','count'])\n",
    "low_frequency_words = set(str_frequencies[str_frequencies['count'] < cuenta_minima]['word'])\n",
    "texto['stemmed_text'] = [' '.join(filter(None,filter(lambda word: word not in low_frequency_words, line))) for line in texto['stemmed_text'].str.split(' ')]\n",
    "texto"
   ]
  },
  {
   "cell_type": "code",
   "execution_count": 11,
   "metadata": {},
   "outputs": [
    {
     "output_type": "stream",
     "name": "stderr",
     "text": "<>:3: DeprecationWarning: invalid escape sequence \\[\n<>:3: DeprecationWarning: invalid escape sequence \\[\n<>:3: DeprecationWarning: invalid escape sequence \\[\n<ipython-input-11-e5f661c12f12>:3: DeprecationWarning: invalid escape sequence \\[\n  return \" \".join(stemmer.stemWords(re.sub('[!\"#%\\'()*+,-./:;<=>?@\\[\\]^_`{|}~1234567890’”“′‘\\\\\\]',' ', texto).split(' ')))\n"
    }
   ],
   "source": [
    "# Funcion para Stemming paralelo\n",
    "def parStemming(texto):\n",
    "    return \" \".join(stemmer.stemWords(re.sub('[!\"#%\\'()*+,-./:;<=>?@\\[\\]^_`{|}~1234567890’”“′‘\\\\\\]',' ', texto).split(' ')))"
   ]
  },
  {
   "cell_type": "code",
   "execution_count": 12,
   "metadata": {},
   "outputs": [
    {
     "output_type": "stream",
     "name": "stdout",
     "text": "Tiempo tomado: 252.25737190246582\n"
    }
   ],
   "source": [
    "# Se realiza Stemming\n",
    "t0 = time.time()\n",
    "pool = mp.Pool()\n",
    "texto['stemmed_text'] = pool.map(parStemming,texto['stemmed_text'])\n",
    "pool.close()\n",
    "print('Tiempo tomado: ' + str(time.time()-t0))"
   ]
  },
  {
   "cell_type": "markdown",
   "metadata": {},
   "source": [
    "### Representacion de los documentos"
   ]
  },
  {
   "cell_type": "code",
   "execution_count": 13,
   "metadata": {},
   "outputs": [],
   "source": [
    "# Funcion para tokenizacion paralela\n",
    "def parToken(texto):\n",
    "    return nltk.word_tokenize(texto)"
   ]
  },
  {
   "cell_type": "code",
   "execution_count": 14,
   "metadata": {},
   "outputs": [
    {
     "output_type": "stream",
     "name": "stdout",
     "text": "Tiempo tomado: 13.787389278411865\n"
    },
    {
     "output_type": "execute_result",
     "data": {
      "text/plain": "              id                                              texto  \\\n0       ug7v899j  Clinical features of culture proven Mycoplasma...   \n1       02tnwd4m  Nitric oxide  a pro inflammatory mediator in l...   \n2       ejv2xln0  Surfactant protein D and pulmonary host defens...   \n3       2b73a28n  Role of endothelin   in lung disease Endotheli...   \n4       9785vg6d  Gene expression in epithelial cells in respons...   \n...          ...                                                ...   \n128486  jvl63652  Dual Analysis of the Murine Cytomegalovirus an...   \n128487  a11jyui1  Impact of BSE on the biotechnology industry — ...   \n128488  9bma9y0q  Evolving Gene Targets and Technology in Influe...   \n128490  97h1fz34  Epidemic spreading in complex networks The stu...   \n128491  clmtwq4v  The determinants of the      and      Chinese ...   \n\n                                             stemmed_text  \\\n0       clinic featur cultur proven mycoplasma pneumon...   \n1       nitric oxid pro inflammatori mediat lung disea...   \n2       surfact protein pulmonari host defens surfact ...   \n3       role endothelin lung diseas endothelin et amin...   \n4       gene express epitheli cell respons pneumovirus...   \n...                                                   ...   \n128486  dual analysi murin cytomegalovirus host cell t...   \n128487  impact bse biotechnolog industri — detect risk...   \n128488  evolv gene target technolog influenza detect i...   \n128490  epidem spread complex network studi epidem spr...   \n128491  determin chines golden holiday system content ...   \n\n                                                   tokens  \n0       [clinic, featur, cultur, proven, mycoplasma, p...  \n1       [nitric, oxid, pro, inflammatori, mediat, lung...  \n2       [surfact, protein, pulmonari, host, defens, su...  \n3       [role, endothelin, lung, diseas, endothelin, e...  \n4       [gene, express, epitheli, cell, respons, pneum...  \n...                                                   ...  \n128486  [dual, analysi, murin, cytomegalovirus, host, ...  \n128487  [impact, bse, biotechnolog, industri, —, detec...  \n128488  [evolv, gene, target, technolog, influenza, de...  \n128490  [epidem, spread, complex, network, studi, epid...  \n128491  [determin, chines, golden, holiday, system, co...  \n\n[101606 rows x 4 columns]",
      "text/html": "<div>\n<style scoped>\n    .dataframe tbody tr th:only-of-type {\n        vertical-align: middle;\n    }\n\n    .dataframe tbody tr th {\n        vertical-align: top;\n    }\n\n    .dataframe thead th {\n        text-align: right;\n    }\n</style>\n<table border=\"1\" class=\"dataframe\">\n  <thead>\n    <tr style=\"text-align: right;\">\n      <th></th>\n      <th>id</th>\n      <th>texto</th>\n      <th>stemmed_text</th>\n      <th>tokens</th>\n    </tr>\n  </thead>\n  <tbody>\n    <tr>\n      <th>0</th>\n      <td>ug7v899j</td>\n      <td>Clinical features of culture proven Mycoplasma...</td>\n      <td>clinic featur cultur proven mycoplasma pneumon...</td>\n      <td>[clinic, featur, cultur, proven, mycoplasma, p...</td>\n    </tr>\n    <tr>\n      <th>1</th>\n      <td>02tnwd4m</td>\n      <td>Nitric oxide  a pro inflammatory mediator in l...</td>\n      <td>nitric oxid pro inflammatori mediat lung disea...</td>\n      <td>[nitric, oxid, pro, inflammatori, mediat, lung...</td>\n    </tr>\n    <tr>\n      <th>2</th>\n      <td>ejv2xln0</td>\n      <td>Surfactant protein D and pulmonary host defens...</td>\n      <td>surfact protein pulmonari host defens surfact ...</td>\n      <td>[surfact, protein, pulmonari, host, defens, su...</td>\n    </tr>\n    <tr>\n      <th>3</th>\n      <td>2b73a28n</td>\n      <td>Role of endothelin   in lung disease Endotheli...</td>\n      <td>role endothelin lung diseas endothelin et amin...</td>\n      <td>[role, endothelin, lung, diseas, endothelin, e...</td>\n    </tr>\n    <tr>\n      <th>4</th>\n      <td>9785vg6d</td>\n      <td>Gene expression in epithelial cells in respons...</td>\n      <td>gene express epitheli cell respons pneumovirus...</td>\n      <td>[gene, express, epitheli, cell, respons, pneum...</td>\n    </tr>\n    <tr>\n      <th>...</th>\n      <td>...</td>\n      <td>...</td>\n      <td>...</td>\n      <td>...</td>\n    </tr>\n    <tr>\n      <th>128486</th>\n      <td>jvl63652</td>\n      <td>Dual Analysis of the Murine Cytomegalovirus an...</td>\n      <td>dual analysi murin cytomegalovirus host cell t...</td>\n      <td>[dual, analysi, murin, cytomegalovirus, host, ...</td>\n    </tr>\n    <tr>\n      <th>128487</th>\n      <td>a11jyui1</td>\n      <td>Impact of BSE on the biotechnology industry — ...</td>\n      <td>impact bse biotechnolog industri — detect risk...</td>\n      <td>[impact, bse, biotechnolog, industri, —, detec...</td>\n    </tr>\n    <tr>\n      <th>128488</th>\n      <td>9bma9y0q</td>\n      <td>Evolving Gene Targets and Technology in Influe...</td>\n      <td>evolv gene target technolog influenza detect i...</td>\n      <td>[evolv, gene, target, technolog, influenza, de...</td>\n    </tr>\n    <tr>\n      <th>128490</th>\n      <td>97h1fz34</td>\n      <td>Epidemic spreading in complex networks The stu...</td>\n      <td>epidem spread complex network studi epidem spr...</td>\n      <td>[epidem, spread, complex, network, studi, epid...</td>\n    </tr>\n    <tr>\n      <th>128491</th>\n      <td>clmtwq4v</td>\n      <td>The determinants of the      and      Chinese ...</td>\n      <td>determin chines golden holiday system content ...</td>\n      <td>[determin, chines, golden, holiday, system, co...</td>\n    </tr>\n  </tbody>\n</table>\n<p>101606 rows × 4 columns</p>\n</div>"
     },
     "metadata": {},
     "execution_count": 14
    }
   ],
   "source": [
    "# Tokenizacion\n",
    "t0 = time.time()\n",
    "pool = mp.Pool()\n",
    "#texto['tokens'] = texto.apply(lambda row: nltk.word_tokenize(row['stemmed_text']), axis=1)\n",
    "texto['tokens'] = pool.map(parToken, texto['stemmed_text'])\n",
    "pool.close()\n",
    "print('Tiempo tomado: ' + str(time.time()-t0))\n",
    "texto"
   ]
  },
  {
   "cell_type": "code",
   "execution_count": 15,
   "metadata": {},
   "outputs": [
    {
     "output_type": "stream",
     "name": "stdout",
     "text": "Longitud del BoW: 41245\n"
    }
   ],
   "source": [
    "# BoW\n",
    "diccionario = Dictionary(texto.tokens)\n",
    "print('Longitud del BoW: ' + str(len(diccionario)))"
   ]
  },
  {
   "cell_type": "code",
   "execution_count": 16,
   "metadata": {},
   "outputs": [
    {
     "output_type": "stream",
     "name": "stdout",
     "text": "Tiempo tomado: 6.516019821166992\n"
    }
   ],
   "source": [
    "# Matriz de documentos vs terminos\n",
    "t0 = time.time()\n",
    "pool = mp.Pool(mp.cpu_count()-1)\n",
    "doc_term_matrix = pool.map(diccionario.doc2bow, [sentence for sentence in texto.tokens])\n",
    "pool.close()\n",
    "print('Tiempo tomado: '+str(time.time()-t0))"
   ]
  },
  {
   "cell_type": "markdown",
   "metadata": {},
   "source": [
    "### Aplicacion del modelo (LDA)"
   ]
  },
  {
   "cell_type": "code",
   "execution_count": null,
   "metadata": {},
   "outputs": [],
   "source": [
    "t0 = time.time()\n",
    "lda_model = LdaMulticore(doc_term_matrix, num_topics=5, id2word=diccionario, workers=mp.cpu_count())\n",
    "print('Tiempo tomado: '+str(time.time()-t0))"
   ]
  },
  {
   "cell_type": "markdown",
   "metadata": {},
   "source": [
    "### Visualizacion del modelo"
   ]
  },
  {
   "cell_type": "code",
   "execution_count": null,
   "metadata": {},
   "outputs": [],
   "source": [
    "t0 = time.time()\n",
    "pyLDAvis.enable_notebook()\n",
    "vis = gensim.prepare(lda_model, doc_term_matrix, diccionario, sort_topics=False)\n",
    "print('Tiempo tomado: '+str(time.time()-t0))\n",
    "vis"
   ]
  },
  {
   "cell_type": "code",
   "execution_count": null,
   "metadata": {},
   "outputs": [],
   "source": [
    "# Guardar el modelo\n",
    "pyLDAvis.save_html(vis, 'gensimLDAOpt.html')"
   ]
  },
  {
   "cell_type": "markdown",
   "metadata": {},
   "source": [
    "### Aplicación del modelo\n",
    "\n",
    "Se aplica el modelo para clasificar todos los documentos. Esta clasificacion se utiliza para el clasificador supervisado"
   ]
  },
  {
   "cell_type": "code",
   "execution_count": null,
   "metadata": {},
   "outputs": [],
   "source": [
    "# Funcion para clasificacion paralela\n",
    "def clasificarDoc(documento):\n",
    "    textBow = diccionario.doc2bow(documento)\n",
    "    distribucion = lda_model.get_document_topics(textBow)\n",
    "    topico = max(distribucion, key=lambda x:x[1])[0]\n",
    "    return topico\n"
   ]
  },
  {
   "cell_type": "code",
   "execution_count": null,
   "metadata": {},
   "outputs": [],
   "source": [
    "# Clasificar todos los documentos\n",
    "t0 = time.time()\n",
    "pool = mp.Pool()\n",
    "texto['Topico'] = pool.map(clasificarDoc, texto.tokens)\n",
    "pool.close()\n",
    "print('Tiempo tomado: '+str(time.time()-t0))\n",
    "texto"
   ]
  },
  {
   "cell_type": "code",
   "execution_count": null,
   "metadata": {},
   "outputs": [],
   "source": [
    "# Se crea Data Frame de salida con el id del documento y el topico\n",
    "outClasificacion = pd.DataFrame({'docId':texto.id,'topico':texto.Topico})\n",
    "outClasificacion.to_pickle('docTopicDetection.pkl')"
   ]
  }
 ],
 "metadata": {
  "language_info": {
   "codemirror_mode": {
    "name": "ipython",
    "version": 3
   },
   "file_extension": ".py",
   "mimetype": "text/x-python",
   "name": "python",
   "nbconvert_exporter": "python",
   "pygments_lexer": "ipython3",
   "version": "3.7.6-final"
  },
  "orig_nbformat": 2,
  "kernelspec": {
   "name": "python3",
   "display_name": "Python 3"
  }
 },
 "nbformat": 4,
 "nbformat_minor": 2
}