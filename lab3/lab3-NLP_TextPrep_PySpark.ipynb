{
 "cells": [
  {
   "cell_type": "code",
   "execution_count": 1,
   "metadata": {},
   "outputs": [
    {
     "name": "stdout",
     "output_type": "stream",
     "text": [
      "Requirement already satisfied: pyspark in /Users/emontoya/opt/anaconda3/lib/python3.7/site-packages (2.4.5)\r\n",
      "Requirement already satisfied: py4j==0.10.7 in /Users/emontoya/opt/anaconda3/lib/python3.7/site-packages (from pyspark) (0.10.7)\r\n"
     ]
    }
   ],
   "source": [
    "# verificar que tengan instalado la librería 'pyspark'\n",
    "!pip install pyspark"
   ]
  },
  {
   "cell_type": "code",
   "execution_count": 2,
   "metadata": {},
   "outputs": [],
   "source": [
    "#create spark session\n",
    "from pyspark.sql import SparkSession\n",
    "\n",
    "spark=SparkSession.builder.appName('nlp').getOrCreate()"
   ]
  },
  {
   "cell_type": "code",
   "execution_count": 3,
   "metadata": {},
   "outputs": [],
   "source": [
    "df=spark.createDataFrame([(1,'I really liked this movie'),\n",
    "                         (2,'I would recommend this movie to my friends'),\n",
    "                         (3,'movie was alright but acting was horrible'),\n",
    "                         (4,'I am never watching that movie ever again')],\n",
    "                        ['user_id','review'])"
   ]
  },
  {
   "cell_type": "code",
   "execution_count": 4,
   "metadata": {},
   "outputs": [
    {
     "name": "stdout",
     "output_type": "stream",
     "text": [
      "+-------+------------------------------------------+\n",
      "|user_id|review                                    |\n",
      "+-------+------------------------------------------+\n",
      "|1      |I really liked this movie                 |\n",
      "|2      |I would recommend this movie to my friends|\n",
      "|3      |movie was alright but acting was horrible |\n",
      "|4      |I am never watching that movie ever again |\n",
      "+-------+------------------------------------------+\n",
      "\n"
     ]
    }
   ],
   "source": [
    "df.show(5,False)"
   ]
  },
  {
   "cell_type": "code",
   "execution_count": 5,
   "metadata": {},
   "outputs": [],
   "source": [
    "# Tokenization"
   ]
  },
  {
   "cell_type": "code",
   "execution_count": 6,
   "metadata": {},
   "outputs": [],
   "source": [
    "from pyspark.ml.feature import Tokenizer"
   ]
  },
  {
   "cell_type": "code",
   "execution_count": 7,
   "metadata": {},
   "outputs": [],
   "source": [
    "tokenization=Tokenizer(inputCol='review',outputCol='tokens')"
   ]
  },
  {
   "cell_type": "code",
   "execution_count": 8,
   "metadata": {},
   "outputs": [],
   "source": [
    "tokenized_df=tokenization.transform(df)"
   ]
  },
  {
   "cell_type": "code",
   "execution_count": 9,
   "metadata": {},
   "outputs": [
    {
     "name": "stdout",
     "output_type": "stream",
     "text": [
      "+-------+------------------------------------------+---------------------------------------------------+\n",
      "|user_id|review                                    |tokens                                             |\n",
      "+-------+------------------------------------------+---------------------------------------------------+\n",
      "|1      |I really liked this movie                 |[i, really, liked, this, movie]                    |\n",
      "|2      |I would recommend this movie to my friends|[i, would, recommend, this, movie, to, my, friends]|\n",
      "|3      |movie was alright but acting was horrible |[movie, was, alright, but, acting, was, horrible]  |\n",
      "|4      |I am never watching that movie ever again |[i, am, never, watching, that, movie, ever, again] |\n",
      "+-------+------------------------------------------+---------------------------------------------------+\n",
      "\n"
     ]
    }
   ],
   "source": [
    "tokenized_df.show(4,False)"
   ]
  },
  {
   "cell_type": "code",
   "execution_count": 10,
   "metadata": {},
   "outputs": [],
   "source": [
    "# stopwords removal "
   ]
  },
  {
   "cell_type": "code",
   "execution_count": 11,
   "metadata": {},
   "outputs": [],
   "source": [
    "from pyspark.ml.feature import StopWordsRemover"
   ]
  },
  {
   "cell_type": "code",
   "execution_count": 12,
   "metadata": {},
   "outputs": [],
   "source": [
    "stopword_removal=StopWordsRemover(inputCol='tokens',outputCol='refined_tokens')"
   ]
  },
  {
   "cell_type": "code",
   "execution_count": 13,
   "metadata": {},
   "outputs": [],
   "source": [
    "refined_df=stopword_removal.transform(tokenized_df)"
   ]
  },
  {
   "cell_type": "code",
   "execution_count": 14,
   "metadata": {},
   "outputs": [
    {
     "name": "stdout",
     "output_type": "stream",
     "text": [
      "+-------+---------------------------------------------------+----------------------------------+\n",
      "|user_id|tokens                                             |refined_tokens                    |\n",
      "+-------+---------------------------------------------------+----------------------------------+\n",
      "|1      |[i, really, liked, this, movie]                    |[really, liked, movie]            |\n",
      "|2      |[i, would, recommend, this, movie, to, my, friends]|[recommend, movie, friends]       |\n",
      "|3      |[movie, was, alright, but, acting, was, horrible]  |[movie, alright, acting, horrible]|\n",
      "|4      |[i, am, never, watching, that, movie, ever, again] |[never, watching, movie, ever]    |\n",
      "+-------+---------------------------------------------------+----------------------------------+\n",
      "\n"
     ]
    }
   ],
   "source": [
    "refined_df.select(['user_id','tokens','refined_tokens']).show(10,False)"
   ]
  },
  {
   "cell_type": "code",
   "execution_count": 15,
   "metadata": {},
   "outputs": [],
   "source": [
    "# Movies reviews "
   ]
  },
  {
   "cell_type": "code",
   "execution_count": 16,
   "metadata": {},
   "outputs": [],
   "source": [
    "text_df=spark.read.csv('../datasets/movie_reviews.csv',inferSchema=True,header=True,sep=',')"
   ]
  },
  {
   "cell_type": "code",
   "execution_count": 17,
   "metadata": {},
   "outputs": [
    {
     "name": "stdout",
     "output_type": "stream",
     "text": [
      "root\n",
      " |-- Review: string (nullable = true)\n",
      " |-- Sentiment: string (nullable = true)\n",
      "\n"
     ]
    }
   ],
   "source": [
    "text_df.printSchema()"
   ]
  },
  {
   "cell_type": "code",
   "execution_count": 18,
   "metadata": {},
   "outputs": [
    {
     "data": {
      "text/plain": [
       "7087"
      ]
     },
     "execution_count": 18,
     "metadata": {},
     "output_type": "execute_result"
    }
   ],
   "source": [
    "text_df.count()"
   ]
  },
  {
   "cell_type": "code",
   "execution_count": 19,
   "metadata": {},
   "outputs": [],
   "source": [
    "# Data Cleaning"
   ]
  },
  {
   "cell_type": "code",
   "execution_count": 20,
   "metadata": {},
   "outputs": [],
   "source": [
    "tokenization=Tokenizer(inputCol='Review',outputCol='tokens')"
   ]
  },
  {
   "cell_type": "code",
   "execution_count": 21,
   "metadata": {},
   "outputs": [],
   "source": [
    "tokenized_df=tokenization.transform(text_df)"
   ]
  },
  {
   "cell_type": "code",
   "execution_count": 22,
   "metadata": {},
   "outputs": [
    {
     "name": "stdout",
     "output_type": "stream",
     "text": [
      "+--------------------+---------+--------------------+\n",
      "|              Review|Sentiment|              tokens|\n",
      "+--------------------+---------+--------------------+\n",
      "|The Da Vinci Code...|        1|[the, da, vinci, ...|\n",
      "|this was the firs...|        1|[this, was, the, ...|\n",
      "|i liked the Da Vi...|        1|[i, liked, the, d...|\n",
      "|i liked the Da Vi...|        1|[i, liked, the, d...|\n",
      "|I liked the Da Vi...|        1|[i, liked, the, d...|\n",
      "|that's not even a...|        1|[that's, not, eve...|\n",
      "|I loved the Da Vi...|        1|[i, loved, the, d...|\n",
      "|i thought da vinc...|        1|[i, thought, da, ...|\n",
      "|The Da Vinci Code...|        1|[the, da, vinci, ...|\n",
      "|I thought the Da ...|        1|[i, thought, the,...|\n",
      "|The Da Vinci Code...|        1|[the, da, vinci, ...|\n",
      "|The Da Vinci Code...|        1|[the, da, vinci, ...|\n",
      "|then I turn on th...|        1|[then, i, turn, o...|\n",
      "|The Da Vinci Code...|        1|[the, da, vinci, ...|\n",
      "|i love da vinci c...|        1|[i, love, da, vin...|\n",
      "|i loved da vinci ...|        1|[i, loved, da, vi...|\n",
      "|TO NIGHT:: THE DA...|        1|[to, night::, the...|\n",
      "|THE DA VINCI CODE...|        1|[the, da, vinci, ...|\n",
      "|Thing is, I enjoy...|        1|[thing, is,, i, e...|\n",
      "|very da vinci cod...|        1|[very, da, vinci,...|\n",
      "+--------------------+---------+--------------------+\n",
      "only showing top 20 rows\n",
      "\n"
     ]
    }
   ],
   "source": [
    "tokenized_df.show()"
   ]
  },
  {
   "cell_type": "code",
   "execution_count": 23,
   "metadata": {},
   "outputs": [],
   "source": [
    "stopword_removal=StopWordsRemover(inputCol='tokens',outputCol='refined_tokens')"
   ]
  },
  {
   "cell_type": "code",
   "execution_count": 24,
   "metadata": {},
   "outputs": [],
   "source": [
    "refined_text_df=stopword_removal.transform(tokenized_df)"
   ]
  },
  {
   "cell_type": "code",
   "execution_count": 25,
   "metadata": {},
   "outputs": [
    {
     "name": "stdout",
     "output_type": "stream",
     "text": [
      "+--------------------+---------+--------------------+--------------------+\n",
      "|              Review|Sentiment|              tokens|      refined_tokens|\n",
      "+--------------------+---------+--------------------+--------------------+\n",
      "|The Da Vinci Code...|        1|[the, da, vinci, ...|[da, vinci, code,...|\n",
      "|this was the firs...|        1|[this, was, the, ...|[first, clive, cu...|\n",
      "|i liked the Da Vi...|        1|[i, liked, the, d...|[liked, da, vinci...|\n",
      "|i liked the Da Vi...|        1|[i, liked, the, d...|[liked, da, vinci...|\n",
      "|I liked the Da Vi...|        1|[i, liked, the, d...|[liked, da, vinci...|\n",
      "|that's not even a...|        1|[that's, not, eve...|[even, exaggerati...|\n",
      "|I loved the Da Vi...|        1|[i, loved, the, d...|[loved, da, vinci...|\n",
      "|i thought da vinc...|        1|[i, thought, da, ...|[thought, da, vin...|\n",
      "|The Da Vinci Code...|        1|[the, da, vinci, ...|[da, vinci, code,...|\n",
      "|I thought the Da ...|        1|[i, thought, the,...|[thought, da, vin...|\n",
      "|The Da Vinci Code...|        1|[the, da, vinci, ...|[da, vinci, code,...|\n",
      "|The Da Vinci Code...|        1|[the, da, vinci, ...|[da, vinci, code,...|\n",
      "|then I turn on th...|        1|[then, i, turn, o...|[turn, light, rad...|\n",
      "|The Da Vinci Code...|        1|[the, da, vinci, ...|[da, vinci, code,...|\n",
      "|i love da vinci c...|        1|[i, love, da, vin...|[love, da, vinci,...|\n",
      "|i loved da vinci ...|        1|[i, loved, da, vi...|[loved, da, vinci...|\n",
      "|TO NIGHT:: THE DA...|        1|[to, night::, the...|[night::, da, vin...|\n",
      "|THE DA VINCI CODE...|        1|[the, da, vinci, ...|[da, vinci, code,...|\n",
      "|Thing is, I enjoy...|        1|[thing, is,, i, e...|[thing, is,, enjo...|\n",
      "|very da vinci cod...|        1|[very, da, vinci,...|[da, vinci, code,...|\n",
      "+--------------------+---------+--------------------+--------------------+\n",
      "only showing top 20 rows\n",
      "\n"
     ]
    }
   ],
   "source": [
    "refined_text_df.show()"
   ]
  },
  {
   "cell_type": "code",
   "execution_count": 26,
   "metadata": {},
   "outputs": [],
   "source": [
    "from pyspark.sql.functions import udf\n",
    "from pyspark.sql.types import IntegerType\n",
    "from pyspark.sql.functions import *"
   ]
  },
  {
   "cell_type": "code",
   "execution_count": 27,
   "metadata": {},
   "outputs": [],
   "source": [
    "len_udf = udf(lambda s: len(s), IntegerType())\n",
    "\n",
    "refined_text_df = refined_text_df.withColumn(\"token_count\", len_udf(col('refined_tokens')))\n"
   ]
  },
  {
   "cell_type": "code",
   "execution_count": 28,
   "metadata": {},
   "outputs": [
    {
     "name": "stdout",
     "output_type": "stream",
     "text": [
      "+--------------------+---------+--------------------+--------------------+-----------+\n",
      "|              Review|Sentiment|              tokens|      refined_tokens|token_count|\n",
      "+--------------------+---------+--------------------+--------------------+-----------+\n",
      "|The Da Vinci Code...|        0|[the, da, vinci, ...|[da, vinci, code,...|          6|\n",
      "|by the way, the D...|        0|[by, the, way,, t...|[way,, da, vinci,...|          7|\n",
      "|i love being a se...|        1|[i, love, being, ...|[love, sentry, mi...|          6|\n",
      "|friday hung out w...|        0|[friday, hung, ou...|[friday, hung, ke...|          9|\n",
      "|I want to be here...|        1|[i, want, to, be,...|[want, love, harr...|          7|\n",
      "|Mission Impossibl...|        1|[mission, impossi...|[mission, impossi...|          4|\n",
      "|So as felicia's m...|        1|[so, as, felicia'...|[felicia's, mom, ...|          7|\n",
      "|I want to be here...|        1|[i, want, to, be,...|[want, love, harr...|          7|\n",
      "|The Da Vinci Code...|        1|[the, da, vinci, ...|[da, vinci, code,...|          4|\n",
      "|Which is why i sa...|        1|[which, is, why, ...|[said, silent, hi...|          8|\n",
      "+--------------------+---------+--------------------+--------------------+-----------+\n",
      "only showing top 10 rows\n",
      "\n"
     ]
    }
   ],
   "source": [
    "refined_text_df.orderBy(rand()).show(10)"
   ]
  }
 ],
 "metadata": {
  "kernelspec": {
   "display_name": "Python 3",
   "language": "python",
   "name": "python3"
  },
  "language_info": {
   "codemirror_mode": {
    "name": "ipython",
    "version": 3
   },
   "file_extension": ".py",
   "mimetype": "text/x-python",
   "name": "python",
   "nbconvert_exporter": "python",
   "pygments_lexer": "ipython3",
   "version": "3.7.6"
  }
 },
 "nbformat": 4,
 "nbformat_minor": 2
}
